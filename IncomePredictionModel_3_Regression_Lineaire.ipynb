{
 "cells": [
  {
   "cell_type": "code",
   "execution_count": 1,
   "id": "35eb6135",
   "metadata": {},
   "outputs": [],
   "source": [
    "import pandas as pd\n",
    "import matplotlib.pyplot as plt\n",
    "import scipy.stats as st\n",
    "import seaborn as sns\n",
    "import statsmodels.formula.api as smf\n",
    "from scipy import stats\n",
    "import numpy as np\n",
    "import statsmodels.api as sm"
   ]
  },
  {
   "cell_type": "code",
   "execution_count": 2,
   "id": "691f6320",
   "metadata": {},
   "outputs": [],
   "source": [
    "# chargement du fichier\n",
    "\n",
    "df_model = pd.read_csv('C:\\\\Users\\\\mfila\\\\df_model.csv')"
   ]
  },
  {
   "cell_type": "markdown",
   "id": "6bedb655",
   "metadata": {},
   "source": [
    "### 4.2. Regression linéaire"
   ]
  },
  {
   "cell_type": "raw",
   "id": "3bb7ac1d",
   "metadata": {},
   "source": [
    "Pour chacune des régressions suivantes, vous testerez 2 version : l'une en exprimant le revenu moyen du pays et les revenus (parents & enfants) en logarithme (ln), l'autre en les laissant tels quels. Vous choisirez la version la plus performante pour répondre aux question."
   ]
  },
  {
   "cell_type": "markdown",
   "id": "dd3cb2ab",
   "metadata": {},
   "source": [
    "#### 4.2.1. Régression linéaire avec le revenu moyen du pays et l’indice de Gini du pays de l’individu."
   ]
  },
  {
   "cell_type": "raw",
   "id": "567cc9a7",
   "metadata": {},
   "source": [
    "Appliquez une régression linéaire sur vos données, en incluant comme variables explicatives uniquement le revenu moyen du pays de l’individu et l’indice de Gini du pays de l’individu. Quel est le pourcentage de variance expliquée par votre modèle ?"
   ]
  },
  {
   "cell_type": "code",
   "execution_count": 3,
   "id": "29cdaf28",
   "metadata": {},
   "outputs": [
    {
     "data": {
      "text/html": [
       "<div>\n",
       "<style scoped>\n",
       "    .dataframe tbody tr th:only-of-type {\n",
       "        vertical-align: middle;\n",
       "    }\n",
       "\n",
       "    .dataframe tbody tr th {\n",
       "        vertical-align: top;\n",
       "    }\n",
       "\n",
       "    .dataframe thead th {\n",
       "        text-align: right;\n",
       "    }\n",
       "</style>\n",
       "<table border=\"1\" class=\"dataframe\">\n",
       "  <thead>\n",
       "    <tr style=\"text-align: right;\">\n",
       "      <th></th>\n",
       "      <th>Unnamed: 0</th>\n",
       "      <th>country_code</th>\n",
       "      <th>G_j</th>\n",
       "      <th>income</th>\n",
       "      <th>m_j</th>\n",
       "      <th>p_j</th>\n",
       "      <th>c_i_parents</th>\n",
       "      <th>ln_income</th>\n",
       "      <th>ln_m_j</th>\n",
       "    </tr>\n",
       "  </thead>\n",
       "  <tbody>\n",
       "    <tr>\n",
       "      <th>0</th>\n",
       "      <td>0</td>\n",
       "      <td>ALB</td>\n",
       "      <td>32.141019</td>\n",
       "      <td>728.89795</td>\n",
       "      <td>7297.0</td>\n",
       "      <td>0.465537</td>\n",
       "      <td>1</td>\n",
       "      <td>6.591534</td>\n",
       "      <td>8.895219</td>\n",
       "    </tr>\n",
       "  </tbody>\n",
       "</table>\n",
       "</div>"
      ],
      "text/plain": [
       "   Unnamed: 0 country_code        G_j     income     m_j       p_j  \\\n",
       "0           0          ALB  32.141019  728.89795  7297.0  0.465537   \n",
       "\n",
       "   c_i_parents  ln_income    ln_m_j  \n",
       "0            1   6.591534  8.895219  "
      ]
     },
     "execution_count": 3,
     "metadata": {},
     "output_type": "execute_result"
    }
   ],
   "source": [
    "df_model.head(1)"
   ]
  },
  {
   "cell_type": "code",
   "execution_count": 4,
   "id": "a92a2e88",
   "metadata": {},
   "outputs": [
    {
     "name": "stdout",
     "output_type": "stream",
     "text": [
      "                            OLS Regression Results                            \n",
      "==============================================================================\n",
      "Dep. Variable:                 income   R-squared:                       0.450\n",
      "Model:                            OLS   Adj. R-squared:                  0.450\n",
      "Method:                 Least Squares   F-statistic:                 1.581e+06\n",
      "Date:                Mon, 25 Apr 2022   Prob (F-statistic):               0.00\n",
      "Time:                        14:59:28   Log-Likelihood:            -5.9566e+07\n",
      "No. Observations:             5800000   AIC:                         1.191e+08\n",
      "Df Residuals:                 5799996   BIC:                         1.191e+08\n",
      "Df Model:                           3                                         \n",
      "Covariance Type:            nonrobust                                         \n",
      "==============================================================================\n",
      "                 coef    std err          t      P>|t|      [0.025      0.975]\n",
      "------------------------------------------------------------------------------\n",
      "Intercept   1542.3771     21.217     72.695      0.000    1500.792    1583.962\n",
      "m_j            0.2846      0.001    205.821      0.000       0.282       0.287\n",
      "G_j          -41.0918      0.525    -78.234      0.000     -42.121     -40.062\n",
      "m_j:G_j        0.0059   4.03e-05    146.427      0.000       0.006       0.006\n",
      "==============================================================================\n",
      "Omnibus:                  7136506.197   Durbin-Watson:                   0.001\n",
      "Prob(Omnibus):                  0.000   Jarque-Bera (JB):       1861746408.934\n",
      "Skew:                           6.492   Prob(JB):                         0.00\n",
      "Kurtosis:                      89.806   Cond. No.                     4.49e+06\n",
      "==============================================================================\n",
      "\n",
      "Notes:\n",
      "[1] Standard Errors assume that the covariance matrix of the errors is correctly specified.\n",
      "[2] The condition number is large, 4.49e+06. This might indicate that there are\n",
      "strong multicollinearity or other numerical problems.\n"
     ]
    },
    {
     "data": {
      "text/html": [
       "<div>\n",
       "<style scoped>\n",
       "    .dataframe tbody tr th:only-of-type {\n",
       "        vertical-align: middle;\n",
       "    }\n",
       "\n",
       "    .dataframe tbody tr th {\n",
       "        vertical-align: top;\n",
       "    }\n",
       "\n",
       "    .dataframe thead th {\n",
       "        text-align: right;\n",
       "    }\n",
       "</style>\n",
       "<table border=\"1\" class=\"dataframe\">\n",
       "  <thead>\n",
       "    <tr style=\"text-align: right;\">\n",
       "      <th></th>\n",
       "      <th>df</th>\n",
       "      <th>sum_sq</th>\n",
       "      <th>mean_sq</th>\n",
       "      <th>F</th>\n",
       "      <th>PR(&gt;F)</th>\n",
       "    </tr>\n",
       "  </thead>\n",
       "  <tbody>\n",
       "    <tr>\n",
       "      <th>m_j</th>\n",
       "      <td>1.0</td>\n",
       "      <td>2.300788e+14</td>\n",
       "      <td>2.300788e+14</td>\n",
       "      <td>4.719854e+06</td>\n",
       "      <td>0.0</td>\n",
       "    </tr>\n",
       "    <tr>\n",
       "      <th>G_j</th>\n",
       "      <td>1.0</td>\n",
       "      <td>9.158222e+10</td>\n",
       "      <td>9.158222e+10</td>\n",
       "      <td>1.878725e+03</td>\n",
       "      <td>0.0</td>\n",
       "    </tr>\n",
       "    <tr>\n",
       "      <th>m_j:G_j</th>\n",
       "      <td>1.0</td>\n",
       "      <td>1.045172e+12</td>\n",
       "      <td>1.045172e+12</td>\n",
       "      <td>2.144074e+04</td>\n",
       "      <td>0.0</td>\n",
       "    </tr>\n",
       "    <tr>\n",
       "      <th>Residual</th>\n",
       "      <td>5799996.0</td>\n",
       "      <td>2.827325e+14</td>\n",
       "      <td>4.874702e+07</td>\n",
       "      <td>NaN</td>\n",
       "      <td>NaN</td>\n",
       "    </tr>\n",
       "  </tbody>\n",
       "</table>\n",
       "</div>"
      ],
      "text/plain": [
       "                 df        sum_sq       mean_sq             F  PR(>F)\n",
       "m_j             1.0  2.300788e+14  2.300788e+14  4.719854e+06     0.0\n",
       "G_j             1.0  9.158222e+10  9.158222e+10  1.878725e+03     0.0\n",
       "m_j:G_j         1.0  1.045172e+12  1.045172e+12  2.144074e+04     0.0\n",
       "Residual  5799996.0  2.827325e+14  4.874702e+07           NaN     NaN"
      ]
     },
     "execution_count": 4,
     "metadata": {},
     "output_type": "execute_result"
    }
   ],
   "source": [
    "# Regression\n",
    "\n",
    "reg_rev_gini = smf.ols('income~m_j*G_j', data=df_model).fit()\n",
    "print(reg_rev_gini.summary())\n",
    "sm.stats.anova_lm(reg_rev_gini)"
   ]
  },
  {
   "cell_type": "raw",
   "id": "a89a3fe7",
   "metadata": {},
   "source": [
    "Le R² de ce modèle est de 0.450, ce qui nous donne un pourcentage de variance expliquée pour le modèle de 45 % avec le p-valeur de 0.0."
   ]
  },
  {
   "cell_type": "code",
   "execution_count": 5,
   "id": "826d5ba3",
   "metadata": {},
   "outputs": [
    {
     "name": "stdout",
     "output_type": "stream",
     "text": [
      "                            OLS Regression Results                            \n",
      "==============================================================================\n",
      "Dep. Variable:              ln_income   R-squared:                       0.657\n",
      "Model:                            OLS   Adj. R-squared:                  0.657\n",
      "Method:                 Least Squares   F-statistic:                 3.701e+06\n",
      "Date:                Mon, 25 Apr 2022   Prob (F-statistic):               0.00\n",
      "Time:                        14:59:43   Log-Likelihood:            -7.0004e+06\n",
      "No. Observations:             5800000   AIC:                         1.400e+07\n",
      "Df Residuals:                 5799996   BIC:                         1.400e+07\n",
      "Df Model:                           3                                         \n",
      "Covariance Type:            nonrobust                                         \n",
      "==============================================================================\n",
      "                 coef    std err          t      P>|t|      [0.025      0.975]\n",
      "------------------------------------------------------------------------------\n",
      "Intercept     -1.8972      0.014   -136.871      0.000      -1.924      -1.870\n",
      "ln_m_j         1.1705      0.002    771.992      0.000       1.167       1.173\n",
      "G_j            0.0566      0.000    160.799      0.000       0.056       0.057\n",
      "ln_m_j:G_j    -0.0081   3.91e-05   -207.104      0.000      -0.008      -0.008\n",
      "==============================================================================\n",
      "Omnibus:                   204105.564   Durbin-Watson:                   0.001\n",
      "Prob(Omnibus):                  0.000   Jarque-Bera (JB):           563770.080\n",
      "Skew:                          -0.109   Prob(JB):                         0.00\n",
      "Kurtosis:                       4.512   Cond. No.                     1.48e+04\n",
      "==============================================================================\n",
      "\n",
      "Notes:\n",
      "[1] Standard Errors assume that the covariance matrix of the errors is correctly specified.\n",
      "[2] The condition number is large, 1.48e+04. This might indicate that there are\n",
      "strong multicollinearity or other numerical problems.\n"
     ]
    }
   ],
   "source": [
    "#Regression lineaire des incomes logarithmique\n",
    "\n",
    "reg_rev_gini_log = smf.ols('ln_income~ln_m_j*G_j', data=df_model).fit()\n",
    "print(reg_rev_gini_log.summary())"
   ]
  },
  {
   "cell_type": "code",
   "execution_count": 6,
   "id": "6e305e39",
   "metadata": {},
   "outputs": [
    {
     "data": {
      "text/html": [
       "<div>\n",
       "<style scoped>\n",
       "    .dataframe tbody tr th:only-of-type {\n",
       "        vertical-align: middle;\n",
       "    }\n",
       "\n",
       "    .dataframe tbody tr th {\n",
       "        vertical-align: top;\n",
       "    }\n",
       "\n",
       "    .dataframe thead th {\n",
       "        text-align: right;\n",
       "    }\n",
       "</style>\n",
       "<table border=\"1\" class=\"dataframe\">\n",
       "  <thead>\n",
       "    <tr style=\"text-align: right;\">\n",
       "      <th></th>\n",
       "      <th>df</th>\n",
       "      <th>sum_sq</th>\n",
       "      <th>mean_sq</th>\n",
       "      <th>F</th>\n",
       "      <th>PR(&gt;F)</th>\n",
       "    </tr>\n",
       "  </thead>\n",
       "  <tbody>\n",
       "    <tr>\n",
       "      <th>ln_m_j</th>\n",
       "      <td>1.0</td>\n",
       "      <td>7.134050e+06</td>\n",
       "      <td>7.134050e+06</td>\n",
       "      <td>1.090079e+07</td>\n",
       "      <td>0.0</td>\n",
       "    </tr>\n",
       "    <tr>\n",
       "      <th>G_j</th>\n",
       "      <td>1.0</td>\n",
       "      <td>1.045737e+05</td>\n",
       "      <td>1.045737e+05</td>\n",
       "      <td>1.597880e+05</td>\n",
       "      <td>0.0</td>\n",
       "    </tr>\n",
       "    <tr>\n",
       "      <th>ln_m_j:G_j</th>\n",
       "      <td>1.0</td>\n",
       "      <td>2.807093e+04</td>\n",
       "      <td>2.807093e+04</td>\n",
       "      <td>4.289223e+04</td>\n",
       "      <td>0.0</td>\n",
       "    </tr>\n",
       "    <tr>\n",
       "      <th>Residual</th>\n",
       "      <td>5799996.0</td>\n",
       "      <td>3.795822e+06</td>\n",
       "      <td>6.544526e-01</td>\n",
       "      <td>NaN</td>\n",
       "      <td>NaN</td>\n",
       "    </tr>\n",
       "  </tbody>\n",
       "</table>\n",
       "</div>"
      ],
      "text/plain": [
       "                   df        sum_sq       mean_sq             F  PR(>F)\n",
       "ln_m_j            1.0  7.134050e+06  7.134050e+06  1.090079e+07     0.0\n",
       "G_j               1.0  1.045737e+05  1.045737e+05  1.597880e+05     0.0\n",
       "ln_m_j:G_j        1.0  2.807093e+04  2.807093e+04  4.289223e+04     0.0\n",
       "Residual    5799996.0  3.795822e+06  6.544526e-01           NaN     NaN"
      ]
     },
     "execution_count": 6,
     "metadata": {},
     "output_type": "execute_result"
    }
   ],
   "source": [
    "sm.stats.anova_lm(reg_rev_gini_log)"
   ]
  },
  {
   "cell_type": "raw",
   "id": "49417dca",
   "metadata": {},
   "source": [
    "Le R² de ce modèle est de 0.657, ce qui nous donne un pourcentage de variance expliquée pour le modèle à échelle logarithmique de 65.7 % ce qui de 20 % de plus par rapport au modèle précedent."
   ]
  },
  {
   "cell_type": "raw",
   "id": "1ed47205",
   "metadata": {},
   "source": [
    "Selon ce modèle, donnez la décomposition de variance totale expliquée par :\n",
    "\n",
    "le pays de naissance (ie. le revenu moyen et l’indice de Gini) ;\n",
    "les autres facteurs non considérés dans le modèle (efforts, chance, etc.)."
   ]
  },
  {
   "cell_type": "code",
   "execution_count": 7,
   "id": "5d191e7a",
   "metadata": {},
   "outputs": [
    {
     "data": {
      "text/plain": [
       "65.69"
      ]
     },
     "execution_count": 7,
     "metadata": {},
     "output_type": "execute_result"
    }
   ],
   "source": [
    "#Autre méthode de calcul de la variance expliquée du modèle\n",
    "var_exp_model = round((reg_rev_gini_log.ess / reg_rev_gini_log.centered_tss)*100,2)\n",
    "var_exp_model"
   ]
  },
  {
   "cell_type": "code",
   "execution_count": 8,
   "id": "ecff281c",
   "metadata": {},
   "outputs": [
    {
     "data": {
      "text/plain": [
       "11062516.886137355"
      ]
     },
     "execution_count": 8,
     "metadata": {},
     "output_type": "execute_result"
    }
   ],
   "source": [
    "#Variance totale SCT\n",
    "reg_rev_gini_log.centered_tss"
   ]
  },
  {
   "cell_type": "code",
   "execution_count": 9,
   "id": "874e86f4",
   "metadata": {},
   "outputs": [
    {
     "data": {
      "text/plain": [
       "7266694.675770333"
      ]
     },
     "execution_count": 9,
     "metadata": {},
     "output_type": "execute_result"
    }
   ],
   "source": [
    "#Variance expliquée SCE\n",
    "reg_rev_gini_log.ess"
   ]
  },
  {
   "cell_type": "code",
   "execution_count": 10,
   "id": "4e330970",
   "metadata": {},
   "outputs": [
    {
     "data": {
      "text/plain": [
       "3795822.2103670216"
      ]
     },
     "execution_count": 10,
     "metadata": {},
     "output_type": "execute_result"
    }
   ],
   "source": [
    "#Variance résiduelle SCR\n",
    "reg_rev_gini_log.ssr"
   ]
  },
  {
   "cell_type": "code",
   "execution_count": 11,
   "id": "001bb4bc",
   "metadata": {
    "scrolled": true
   },
   "outputs": [
    {
     "data": {
      "text/html": [
       "<div>\n",
       "<style scoped>\n",
       "    .dataframe tbody tr th:only-of-type {\n",
       "        vertical-align: middle;\n",
       "    }\n",
       "\n",
       "    .dataframe tbody tr th {\n",
       "        vertical-align: top;\n",
       "    }\n",
       "\n",
       "    .dataframe thead th {\n",
       "        text-align: right;\n",
       "    }\n",
       "</style>\n",
       "<table border=\"1\" class=\"dataframe\">\n",
       "  <thead>\n",
       "    <tr style=\"text-align: right;\">\n",
       "      <th></th>\n",
       "      <th>df</th>\n",
       "      <th>sum_sq</th>\n",
       "      <th>mean_sq</th>\n",
       "      <th>F</th>\n",
       "      <th>PR(&gt;F)</th>\n",
       "    </tr>\n",
       "  </thead>\n",
       "  <tbody>\n",
       "    <tr>\n",
       "      <th>ln_m_j</th>\n",
       "      <td>1.0</td>\n",
       "      <td>7.134050e+06</td>\n",
       "      <td>7.134050e+06</td>\n",
       "      <td>1.090079e+07</td>\n",
       "      <td>0.0</td>\n",
       "    </tr>\n",
       "    <tr>\n",
       "      <th>G_j</th>\n",
       "      <td>1.0</td>\n",
       "      <td>1.045737e+05</td>\n",
       "      <td>1.045737e+05</td>\n",
       "      <td>1.597880e+05</td>\n",
       "      <td>0.0</td>\n",
       "    </tr>\n",
       "    <tr>\n",
       "      <th>ln_m_j:G_j</th>\n",
       "      <td>1.0</td>\n",
       "      <td>2.807093e+04</td>\n",
       "      <td>2.807093e+04</td>\n",
       "      <td>4.289223e+04</td>\n",
       "      <td>0.0</td>\n",
       "    </tr>\n",
       "    <tr>\n",
       "      <th>Residual</th>\n",
       "      <td>5799996.0</td>\n",
       "      <td>3.795822e+06</td>\n",
       "      <td>6.544526e-01</td>\n",
       "      <td>NaN</td>\n",
       "      <td>NaN</td>\n",
       "    </tr>\n",
       "  </tbody>\n",
       "</table>\n",
       "</div>"
      ],
      "text/plain": [
       "                   df        sum_sq       mean_sq             F  PR(>F)\n",
       "ln_m_j            1.0  7.134050e+06  7.134050e+06  1.090079e+07     0.0\n",
       "G_j               1.0  1.045737e+05  1.045737e+05  1.597880e+05     0.0\n",
       "ln_m_j:G_j        1.0  2.807093e+04  2.807093e+04  4.289223e+04     0.0\n",
       "Residual    5799996.0  3.795822e+06  6.544526e-01           NaN     NaN"
      ]
     },
     "execution_count": 11,
     "metadata": {},
     "output_type": "execute_result"
    }
   ],
   "source": [
    "# Anova sur les variables de notre régression linéaire\n",
    "anova_ln = sm.stats.anova_lm(reg_rev_gini_log, typ=1)\n",
    "anova_ln"
   ]
  },
  {
   "cell_type": "code",
   "execution_count": 13,
   "id": "3e880578",
   "metadata": {},
   "outputs": [
    {
     "data": {
      "text/plain": [
       "0.009452975137255789"
      ]
     },
     "execution_count": 13,
     "metadata": {},
     "output_type": "execute_result"
    }
   ],
   "source": [
    "# Calcul du R2 pour la variable 'G_j'\n",
    "r2_Gj = anova_ln.sum_sq['G_j'] / anova_ln['sum_sq'].sum()\n",
    "r2_Gj"
   ]
  },
  {
   "cell_type": "code",
   "execution_count": 14,
   "id": "743533be",
   "metadata": {},
   "outputs": [
    {
     "data": {
      "text/plain": [
       "0.6448848957346441"
      ]
     },
     "execution_count": 14,
     "metadata": {},
     "output_type": "execute_result"
    }
   ],
   "source": [
    "# Calcul du R2 pour la variable 'ln_m_j'\n",
    "r2_ln_mj = anova_ln.sum_sq['ln_m_j'] / anova_ln['sum_sq'].sum()\n",
    "r2_ln_mj"
   ]
  },
  {
   "cell_type": "code",
   "execution_count": 15,
   "id": "b836231b",
   "metadata": {},
   "outputs": [
    {
     "data": {
      "text/plain": [
       "0.0025374813245870077"
      ]
     },
     "execution_count": 15,
     "metadata": {},
     "output_type": "execute_result"
    }
   ],
   "source": [
    "# Calcul du R2 pour les interactions entre les variables 'ln_m_j' et 'G_j'\n",
    "r2_Gj_mj = anova_ln.sum_sq['ln_m_j:G_j'] / anova_ln['sum_sq'].sum()\n",
    "r2_Gj_mj"
   ]
  },
  {
   "cell_type": "code",
   "execution_count": 16,
   "id": "5d960ea8",
   "metadata": {},
   "outputs": [
    {
     "data": {
      "text/plain": [
       "(0.6568753521964869, 0.6568753521973253)"
      ]
     },
     "execution_count": 16,
     "metadata": {},
     "output_type": "execute_result"
    }
   ],
   "source": [
    "# Vérification\n",
    "r2_Gj + r2_ln_mj + r2_Gj_mj, reg_rev_gini_log.rsquared"
   ]
  },
  {
   "cell_type": "raw",
   "id": "02d57c60",
   "metadata": {},
   "source": [
    "La variable 'G_j' explique 0.9% de la variance de la variable 'ln_income'\n",
    "La variable 'ln_m_j' explique 64.48% de la variance de la variable 'ln_income'.\n",
    "L'interaction entre ces deux variables correspond à 0.25 % de la variance expliquée.\n",
    "\n",
    "Le pays de naissance (ie. le revenu moyen et l’indice de Gini) explique donc 65.7 % de la variance de la variable revenu moyen de l'enfant.\n",
    "Les autres facteurs non considérés dans le modèle (efforts, chance, etc.) representent donc 34.3 % de la variance."
   ]
  },
  {
   "cell_type": "markdown",
   "id": "e439d5ac",
   "metadata": {},
   "source": [
    "#### 4.2.2. Régression linéaire avec 3 variables : le revenu moyen du pays, l’indice de Gini et la classe de revenu des parents"
   ]
  },
  {
   "cell_type": "raw",
   "id": "c725bebb",
   "metadata": {},
   "source": [
    "Améliorez le modèle précédent en incluant maintenant la classe de revenu des parents. Quel est le pourcentage de variance expliquée par ce nouveau modèle ?"
   ]
  },
  {
   "cell_type": "code",
   "execution_count": 17,
   "id": "823123ec",
   "metadata": {},
   "outputs": [
    {
     "name": "stdout",
     "output_type": "stream",
     "text": [
      "                            OLS Regression Results                            \n",
      "==============================================================================\n",
      "Dep. Variable:                 income   R-squared:                       0.494\n",
      "Model:                            OLS   Adj. R-squared:                  0.494\n",
      "Method:                 Least Squares   F-statistic:                 8.078e+05\n",
      "Date:                Mon, 25 Apr 2022   Prob (F-statistic):               0.00\n",
      "Time:                        15:05:43   Log-Likelihood:            -5.9326e+07\n",
      "No. Observations:             5800000   AIC:                         1.187e+08\n",
      "Df Residuals:                 5799992   BIC:                         1.187e+08\n",
      "Df Model:                           7                                         \n",
      "Covariance Type:            nonrobust                                         \n",
      "=======================================================================================\n",
      "                          coef    std err          t      P>|t|      [0.025      0.975]\n",
      "---------------------------------------------------------------------------------------\n",
      "Intercept            3004.4895     41.018     73.248      0.000    2924.096    3084.883\n",
      "m_j                     0.3702      0.003    138.490      0.000       0.365       0.375\n",
      "G_j                   -88.3774      1.015    -87.035      0.000     -90.368     -86.387\n",
      "m_j:G_j                -0.0017    7.8e-05    -21.377      0.000      -0.002      -0.002\n",
      "c_i_parents           -28.9527      0.705    -41.058      0.000     -30.335     -27.571\n",
      "m_j:c_i_parents        -0.0017    4.6e-05    -36.889      0.000      -0.002      -0.002\n",
      "G_j:c_i_parents         0.9363      0.017     53.638      0.000       0.902       0.971\n",
      "m_j:G_j:c_i_parents     0.0001   1.34e-06    111.864      0.000       0.000       0.000\n",
      "==============================================================================\n",
      "Omnibus:                  7190799.740   Durbin-Watson:                   0.003\n",
      "Prob(Omnibus):                  0.000   Jarque-Bera (JB):       2042495005.273\n",
      "Skew:                           6.551   Prob(JB):                         0.00\n",
      "Kurtosis:                      93.995   Cond. No.                     5.27e+08\n",
      "==============================================================================\n",
      "\n",
      "Notes:\n",
      "[1] Standard Errors assume that the covariance matrix of the errors is correctly specified.\n",
      "[2] The condition number is large, 5.27e+08. This might indicate that there are\n",
      "strong multicollinearity or other numerical problems.\n"
     ]
    }
   ],
   "source": [
    "#Regression lineaire avec le revenu moyen, l'index de Gini et la classe de revenu des parents non-logarithmique\n",
    "\n",
    "reg_rev_gini_class = smf.ols('income~m_j*G_j*c_i_parents', data=df_model).fit()\n",
    "print(reg_rev_gini_class.summary())"
   ]
  },
  {
   "cell_type": "code",
   "execution_count": 32,
   "id": "9b54a228",
   "metadata": {},
   "outputs": [
    {
     "data": {
      "image/png": "[encoded data removed]",
      "text/plain": [
       "<Figure size 432x360 with 1 Axes>"
      ]
     },
     "metadata": {
      "needs_background": "light"
     },
     "output_type": "display_data"
    }
   ],
   "source": [
    "# droite de Henry pour une représentation graphique de la distribution de résidus\n",
    "\n",
    "def residus_henry(model, nom, couleur, ax):\n",
    "    sm.qqplot(model.resid, ax=ax, line=\"45\", fit=True, color=couleur)\n",
    "    ax.set_title(\"Droite de Henry\", fontsize=20)\n",
    "    ax.set_xlabel(\"Quantiles théoriques\" ,fontsize=15), ax.set_ylabel(\"Quantiles observés\", fontsize=16)\n",
    "fig, ax = plt.subplots(1, 1, figsize=(6, 5)); \n",
    "residus_henry(reg_rev_gini_class, \"ANOVA\", \"brown\", ax)"
   ]
  },
  {
   "cell_type": "raw",
   "id": "a7a861d2",
   "metadata": {},
   "source": [
    "Le R² de ce modèle avec 3 variables explicatives est de 0.494, ce qui nous donne un pourcentage de variance expliquée de 49.4 % avec p = 0.00."
   ]
  },
  {
   "cell_type": "code",
   "execution_count": 21,
   "id": "609fea8a",
   "metadata": {},
   "outputs": [
    {
     "name": "stdout",
     "output_type": "stream",
     "text": [
      "                            OLS Regression Results                            \n",
      "==============================================================================\n",
      "Dep. Variable:              ln_income   R-squared:                       0.724\n",
      "Model:                            OLS   Adj. R-squared:                  0.724\n",
      "Method:                 Least Squares   F-statistic:                 2.172e+06\n",
      "Date:                Mon, 25 Apr 2022   Prob (F-statistic):               0.00\n",
      "Time:                        15:15:17   Log-Likelihood:            -6.3710e+06\n",
      "No. Observations:             5800000   AIC:                         1.274e+07\n",
      "Df Residuals:                 5799992   BIC:                         1.274e+07\n",
      "Df Model:                           7                                         \n",
      "Covariance Type:            nonrobust                                         \n",
      "==========================================================================================\n",
      "                             coef    std err          t      P>|t|      [0.025      0.975]\n",
      "------------------------------------------------------------------------------------------\n",
      "Intercept                 -1.6525      0.025    -65.945      0.000      -1.702      -1.603\n",
      "ln_m_j                     1.1997      0.003    437.693      0.000       1.194       1.205\n",
      "G_j                        0.0316      0.001     49.658      0.000       0.030       0.033\n",
      "ln_m_j:G_j                -0.0084   7.07e-05   -118.131      0.000      -0.008      -0.008\n",
      "c_i_parents               -0.0048      0.000    -11.245      0.000      -0.006      -0.004\n",
      "ln_m_j:c_i_parents        -0.0006   4.71e-05    -12.298      0.000      -0.001      -0.000\n",
      "G_j:c_i_parents            0.0005   1.09e-05     45.250      0.000       0.000       0.001\n",
      "ln_m_j:G_j:c_i_parents  5.005e-06   1.22e-06      4.117      0.000    2.62e-06    7.39e-06\n",
      "==============================================================================\n",
      "Omnibus:                   183376.767   Durbin-Watson:                   0.006\n",
      "Prob(Omnibus):                  0.000   Jarque-Bera (JB):           438216.761\n",
      "Skew:                          -0.153   Prob(JB):                         0.00\n",
      "Kurtosis:                       4.312   Cond. No.                     1.73e+06\n",
      "==============================================================================\n",
      "\n",
      "Notes:\n",
      "[1] Standard Errors assume that the covariance matrix of the errors is correctly specified.\n",
      "[2] The condition number is large, 1.73e+06. This might indicate that there are\n",
      "strong multicollinearity or other numerical problems.\n"
     ]
    }
   ],
   "source": [
    "#Regression lineaire avec le revenu moyen logarithmique, l'index de Gini et la classe de revenu des parents logarithmique\n",
    "\n",
    "reg_rev_gini_class_log = smf.ols('ln_income~ln_m_j*G_j*c_i_parents', data=df_model).fit()\n",
    "print(reg_rev_gini_class_log.summary())"
   ]
  },
  {
   "cell_type": "raw",
   "id": "e1979bcc",
   "metadata": {},
   "source": [
    "Le R² de ce modèle avec 3 variables explicatives après le passage en logarithme est de 0.724, ce qui nous donne un pourcentage de variance expliquée de 72.4 % avec p = 0.00."
   ]
  },
  {
   "cell_type": "code",
   "execution_count": 22,
   "id": "ce1bfc29",
   "metadata": {},
   "outputs": [
    {
     "data": {
      "text/html": [
       "<div>\n",
       "<style scoped>\n",
       "    .dataframe tbody tr th:only-of-type {\n",
       "        vertical-align: middle;\n",
       "    }\n",
       "\n",
       "    .dataframe tbody tr th {\n",
       "        vertical-align: top;\n",
       "    }\n",
       "\n",
       "    .dataframe thead th {\n",
       "        text-align: right;\n",
       "    }\n",
       "</style>\n",
       "<table border=\"1\" class=\"dataframe\">\n",
       "  <thead>\n",
       "    <tr style=\"text-align: right;\">\n",
       "      <th></th>\n",
       "      <th>df</th>\n",
       "      <th>sum_sq</th>\n",
       "      <th>mean_sq</th>\n",
       "      <th>F</th>\n",
       "      <th>PR(&gt;F)</th>\n",
       "    </tr>\n",
       "  </thead>\n",
       "  <tbody>\n",
       "    <tr>\n",
       "      <th>ln_m_j</th>\n",
       "      <td>1.0</td>\n",
       "      <td>7.134050e+06</td>\n",
       "      <td>7.134050e+06</td>\n",
       "      <td>1.354291e+07</td>\n",
       "      <td>0.000000</td>\n",
       "    </tr>\n",
       "    <tr>\n",
       "      <th>G_j</th>\n",
       "      <td>1.0</td>\n",
       "      <td>1.045737e+05</td>\n",
       "      <td>1.045737e+05</td>\n",
       "      <td>1.985173e+05</td>\n",
       "      <td>0.000000</td>\n",
       "    </tr>\n",
       "    <tr>\n",
       "      <th>ln_m_j:G_j</th>\n",
       "      <td>1.0</td>\n",
       "      <td>2.807093e+04</td>\n",
       "      <td>2.807093e+04</td>\n",
       "      <td>5.328841e+04</td>\n",
       "      <td>0.000000</td>\n",
       "    </tr>\n",
       "    <tr>\n",
       "      <th>c_i_parents</th>\n",
       "      <td>1.0</td>\n",
       "      <td>6.225429e+05</td>\n",
       "      <td>6.225429e+05</td>\n",
       "      <td>1.181804e+06</td>\n",
       "      <td>0.000000</td>\n",
       "    </tr>\n",
       "    <tr>\n",
       "      <th>ln_m_j:c_i_parents</th>\n",
       "      <td>1.0</td>\n",
       "      <td>1.674821e+04</td>\n",
       "      <td>1.674821e+04</td>\n",
       "      <td>3.179395e+04</td>\n",
       "      <td>0.000000</td>\n",
       "    </tr>\n",
       "    <tr>\n",
       "      <th>G_j:c_i_parents</th>\n",
       "      <td>1.0</td>\n",
       "      <td>1.012394e+05</td>\n",
       "      <td>1.012394e+05</td>\n",
       "      <td>1.921877e+05</td>\n",
       "      <td>0.000000</td>\n",
       "    </tr>\n",
       "    <tr>\n",
       "      <th>ln_m_j:G_j:c_i_parents</th>\n",
       "      <td>1.0</td>\n",
       "      <td>8.928820e+00</td>\n",
       "      <td>8.928820e+00</td>\n",
       "      <td>1.695001e+01</td>\n",
       "      <td>0.000038</td>\n",
       "    </tr>\n",
       "    <tr>\n",
       "      <th>Residual</th>\n",
       "      <td>5799992.0</td>\n",
       "      <td>3.055283e+06</td>\n",
       "      <td>5.267736e-01</td>\n",
       "      <td>NaN</td>\n",
       "      <td>NaN</td>\n",
       "    </tr>\n",
       "  </tbody>\n",
       "</table>\n",
       "</div>"
      ],
      "text/plain": [
       "                               df        sum_sq       mean_sq             F  \\\n",
       "ln_m_j                        1.0  7.134050e+06  7.134050e+06  1.354291e+07   \n",
       "G_j                           1.0  1.045737e+05  1.045737e+05  1.985173e+05   \n",
       "ln_m_j:G_j                    1.0  2.807093e+04  2.807093e+04  5.328841e+04   \n",
       "c_i_parents                   1.0  6.225429e+05  6.225429e+05  1.181804e+06   \n",
       "ln_m_j:c_i_parents            1.0  1.674821e+04  1.674821e+04  3.179395e+04   \n",
       "G_j:c_i_parents               1.0  1.012394e+05  1.012394e+05  1.921877e+05   \n",
       "ln_m_j:G_j:c_i_parents        1.0  8.928820e+00  8.928820e+00  1.695001e+01   \n",
       "Residual                5799992.0  3.055283e+06  5.267736e-01           NaN   \n",
       "\n",
       "                          PR(>F)  \n",
       "ln_m_j                  0.000000  \n",
       "G_j                     0.000000  \n",
       "ln_m_j:G_j              0.000000  \n",
       "c_i_parents             0.000000  \n",
       "ln_m_j:c_i_parents      0.000000  \n",
       "G_j:c_i_parents         0.000000  \n",
       "ln_m_j:G_j:c_i_parents  0.000038  \n",
       "Residual                     NaN  "
      ]
     },
     "execution_count": 22,
     "metadata": {},
     "output_type": "execute_result"
    }
   ],
   "source": [
    "# Table d'analyse de la variance avec statsmodels\n",
    "anova_ln = sm.stats.anova_lm(reg_rev_gini_class_log, typ=1)\n",
    "anova_ln"
   ]
  },
  {
   "cell_type": "code",
   "execution_count": 24,
   "id": "248737a3",
   "metadata": {},
   "outputs": [
    {
     "data": {
      "text/plain": [
       "0.05627498245817797"
      ]
     },
     "execution_count": 24,
     "metadata": {},
     "output_type": "execute_result"
    }
   ],
   "source": [
    "# Calcul du R2 pour la variable 'c_i_parents'\n",
    "r3_Gj = anova_ln.sum_sq['c_i_parents'] / anova_ln['sum_sq'].sum()\n",
    "r3_Gj"
   ]
  },
  {
   "cell_type": "code",
   "execution_count": 25,
   "id": "512fc722",
   "metadata": {},
   "outputs": [
    {
     "data": {
      "text/plain": [
       "0.6448848957346418"
      ]
     },
     "execution_count": 25,
     "metadata": {},
     "output_type": "execute_result"
    }
   ],
   "source": [
    "# Calcul du R2 pour la variable 'ln_m_j'\n",
    "r3_Gj = anova_ln.sum_sq['ln_m_j'] / anova_ln['sum_sq'].sum()\n",
    "r3_Gj"
   ]
  },
  {
   "cell_type": "code",
   "execution_count": 26,
   "id": "30e1db82",
   "metadata": {},
   "outputs": [
    {
     "data": {
      "text/plain": [
       "0.009452975137255754"
      ]
     },
     "execution_count": 26,
     "metadata": {},
     "output_type": "execute_result"
    }
   ],
   "source": [
    "# Calcul du R2 pour la variable 'G_j'\n",
    "r3_Gj = anova_ln.sum_sq['G_j'] / anova_ln['sum_sq'].sum()\n",
    "r3_Gj"
   ]
  },
  {
   "cell_type": "code",
   "execution_count": 27,
   "id": "ff67cde3",
   "metadata": {},
   "outputs": [
    {
     "data": {
      "text/plain": [
       "0.002537481324586998"
      ]
     },
     "execution_count": 27,
     "metadata": {},
     "output_type": "execute_result"
    }
   ],
   "source": [
    "# Calcul du R2 pour la variable 'ln_m_j:G_j'\n",
    "r3_Gj = anova_ln.sum_sq['ln_m_j:G_j'] / anova_ln['sum_sq'].sum()\n",
    "r3_Gj"
   ]
  },
  {
   "cell_type": "code",
   "execution_count": 28,
   "id": "25ad8b70",
   "metadata": {},
   "outputs": [
    {
     "data": {
      "text/plain": [
       "0.0015139606209041599"
      ]
     },
     "execution_count": 28,
     "metadata": {},
     "output_type": "execute_result"
    }
   ],
   "source": [
    "# Calcul du R2 pour la variable 'ln_m_j:c_i_parents'\n",
    "r3_Gj = anova_ln.sum_sq['ln_m_j:c_i_parents'] / anova_ln['sum_sq'].sum()\n",
    "r3_Gj"
   ]
  },
  {
   "cell_type": "code",
   "execution_count": 29,
   "id": "70be7cbc",
   "metadata": {},
   "outputs": [
    {
     "data": {
      "text/plain": [
       "0.009151569766064842"
      ]
     },
     "execution_count": 29,
     "metadata": {},
     "output_type": "execute_result"
    }
   ],
   "source": [
    "# Calcul du R2 pour la variable 'G_j:c_i_parents'\n",
    "r3_Gj = anova_ln.sum_sq['G_j:c_i_parents'] / anova_ln['sum_sq'].sum()\n",
    "r3_Gj"
   ]
  },
  {
   "cell_type": "code",
   "execution_count": 30,
   "id": "a8c38fc7",
   "metadata": {},
   "outputs": [
    {
     "data": {
      "text/plain": [
       "8.071237566081045e-07"
      ]
     },
     "execution_count": 30,
     "metadata": {},
     "output_type": "execute_result"
    }
   ],
   "source": [
    "# Calcul du R2 pour la variable 'ln_m_j:G_j:c_i_parents'\n",
    "r3_Gj = anova_ln.sum_sq['ln_m_j:G_j:c_i_parents'] / anova_ln['sum_sq'].sum()\n",
    "r3_Gj"
   ]
  },
  {
   "cell_type": "code",
   "execution_count": 31,
   "id": "37ca11d8",
   "metadata": {},
   "outputs": [
    {
     "data": {
      "image/png": "[encoded data removed]",
      "text/plain": [
       "<Figure size 432x360 with 1 Axes>"
      ]
     },
     "metadata": {
      "needs_background": "light"
     },
     "output_type": "display_data"
    }
   ],
   "source": [
    "# droite de Henry pour une représentation graphique de la distribution de résidus\n",
    "\n",
    "def residus_henry(model, nom, couleur, ax):\n",
    "    sm.qqplot(model.resid, ax=ax, line=\"45\", fit=True, color=couleur)\n",
    "    ax.set_title(\"Droite de Henry\", fontsize=20)\n",
    "    ax.set_xlabel(\"Quantiles théoriques\" ,fontsize=15), ax.set_ylabel(\"Quantiles observés\", fontsize=16)\n",
    "fig, ax = plt.subplots(1, 1, figsize=(6, 5)); \n",
    "residus_henry(reg_rev_gini_class_log, \"ANOVA\", \"brown\", ax)"
   ]
  },
  {
   "cell_type": "code",
   "execution_count": 33,
   "id": "00ea6c6a",
   "metadata": {},
   "outputs": [
    {
     "name": "stdout",
     "output_type": "stream",
     "text": [
      "TEST DE BREUSCH-PAGAN:  statistic = 170420.23603098842  pvalue = 0.0\n"
     ]
    }
   ],
   "source": [
    "# Vérification de l'homoscédasticité des résidus : Breusch-Pagan\n",
    "\n",
    "def test_residus_BP(model):\n",
    "    BP=sm.stats.diagnostic.het_breuschpagan(model.resid, model.model.exog)\n",
    "    print(\"TEST DE BREUSCH-PAGAN:\", \" statistic =\", BP[0], \" pvalue =\", BP[1])\n",
    "    \n",
    "test_residus_BP(reg_rev_gini_class_log)"
   ]
  },
  {
   "cell_type": "raw",
   "id": "ae3ad92d",
   "metadata": {},
   "source": [
    "P-value = 0.0, nous rejetons donc H0, il y a hétéroscédasticité des residus. Néanmoins, le modèle de regression linéaire multiple est robuste pour les grands échantillons. Plus nous avons de données à disposition (5800000 dans notre cas), plus le modèle est capable de supporter des écarts important aux hypothèse homoscédastique."
   ]
  },
  {
   "cell_type": "raw",
   "id": "2d9ecc4f",
   "metadata": {},
   "source": [
    "Avec le passage aux logarithmes la distribution des résidus s'approche à la distribution normale. Cela nous a permis d'avoir un modèle plus fiable. Ce nouveau modèle avec 3 variables explicatives (revenu moyen du pays, index de Gini, classe de revenu des parents) explique environ 72.4 % de la variance de la variable revenu de l'enfant avec p-valeur de 0.00 %. \n",
    "Le coefficient de régression associé à l’indice de Gini = 0.09%, la part de la variance de revenu de l'individu expliqué par ce facteur est donc très petite. Nous ne pouvons donc pas affirmer que le fait de vivre dans un pays plus inégalitaire favorise plus de personnes qu’il n’en défavorise. \n",
    "La plus grande partie de la variance expliquée (64.48%) est associée à la variable revenu moyen du pays. Le revenu d'un individu dépend donc du revenu moyen de son pays. Le coefficient de régression associé à la classe de revenu des parents = 5.62 %, l'aujout de ce facteur en plus des facteurs liés au pays de l'individu a permis donc d'améliorer le modèle.\n",
    "27% de la variance est expliquée par des facteurs extérieurs non considérés par le modèle comme la chance et les efforts, par exemple. Notre modèle pourrait donc être amélioré en ajoutant d'autres variables explicatives plus pertinentes. "
   ]
  }
 ],
 "metadata": {
  "kernelspec": {
   "display_name": "Python 3",
   "language": "python",
   "name": "python3"
  },
  "language_info": {
   "codemirror_mode": {
    "name": "ipython",
    "version": 3
   },
   "file_extension": ".py",
   "mimetype": "text/x-python",
   "name": "python",
   "nbconvert_exporter": "python",
   "pygments_lexer": "ipython3",
   "version": "3.8.8"
  }
 },
 "nbformat": 4,
 "nbformat_minor": 5
}
