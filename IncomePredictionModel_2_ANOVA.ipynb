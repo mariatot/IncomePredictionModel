{
 "cells": [
  {
   "cell_type": "markdown",
   "id": "bb6d3096",
   "metadata": {},
   "source": [
    "## Mission 4 : Expliquer le revenu des individus en fonction de plusieurs variables explicatives"
   ]
  },
  {
   "cell_type": "raw",
   "id": "b12ff03e",
   "metadata": {},
   "source": [
    "Pour cette mission 4, nous chercherons à expliquer le revenu des individus en fonction de plusieurs variables explicatives : le pays de l'individu, l'indice de Gini de ce pays, la classe de revenus des parents, etc."
   ]
  },
  {
   "cell_type": "code",
   "execution_count": 1,
   "id": "dff02eeb",
   "metadata": {},
   "outputs": [],
   "source": [
    "# import des librairies\n",
    "\n",
    "import pandas as pd\n",
    "import matplotlib.pyplot as plt\n",
    "import scipy.stats as st\n",
    "import seaborn as sns\n",
    "import statsmodels.formula.api as smf\n",
    "import numpy as np\n",
    "from scipy import stats\n",
    "import statsmodels.api as sm"
   ]
  },
  {
   "cell_type": "code",
   "execution_count": 16,
   "id": "691f6320",
   "metadata": {},
   "outputs": [],
   "source": [
    "# chargement du fichier\n",
    "\n",
    "df = pd.read_csv('C:\\\\Users\\\\mfila\\\\df_500_fin.csv')"
   ]
  },
  {
   "cell_type": "code",
   "execution_count": 17,
   "id": "bb3a922b",
   "metadata": {},
   "outputs": [
    {
     "data": {
      "text/html": [
       "<div>\n",
       "<style scoped>\n",
       "    .dataframe tbody tr th:only-of-type {\n",
       "        vertical-align: middle;\n",
       "    }\n",
       "\n",
       "    .dataframe tbody tr th {\n",
       "        vertical-align: top;\n",
       "    }\n",
       "\n",
       "    .dataframe thead th {\n",
       "        text-align: right;\n",
       "    }\n",
       "</style>\n",
       "<table border=\"1\" class=\"dataframe\">\n",
       "  <thead>\n",
       "    <tr style=\"text-align: right;\">\n",
       "      <th></th>\n",
       "      <th>Unnamed: 0</th>\n",
       "      <th>country_code</th>\n",
       "      <th>G_j</th>\n",
       "      <th>income</th>\n",
       "      <th>m_j</th>\n",
       "      <th>p_j</th>\n",
       "      <th>c_i_parents</th>\n",
       "    </tr>\n",
       "  </thead>\n",
       "  <tbody>\n",
       "    <tr>\n",
       "      <th>0</th>\n",
       "      <td>0</td>\n",
       "      <td>ALB</td>\n",
       "      <td>32.141019</td>\n",
       "      <td>728.89795</td>\n",
       "      <td>7297.0</td>\n",
       "      <td>0.465537</td>\n",
       "      <td>1</td>\n",
       "    </tr>\n",
       "    <tr>\n",
       "      <th>1</th>\n",
       "      <td>1</td>\n",
       "      <td>ALB</td>\n",
       "      <td>32.141019</td>\n",
       "      <td>728.89795</td>\n",
       "      <td>7297.0</td>\n",
       "      <td>0.465537</td>\n",
       "      <td>1</td>\n",
       "    </tr>\n",
       "    <tr>\n",
       "      <th>2</th>\n",
       "      <td>2</td>\n",
       "      <td>ALB</td>\n",
       "      <td>32.141019</td>\n",
       "      <td>728.89795</td>\n",
       "      <td>7297.0</td>\n",
       "      <td>0.465537</td>\n",
       "      <td>1</td>\n",
       "    </tr>\n",
       "    <tr>\n",
       "      <th>3</th>\n",
       "      <td>3</td>\n",
       "      <td>ALB</td>\n",
       "      <td>32.141019</td>\n",
       "      <td>728.89795</td>\n",
       "      <td>7297.0</td>\n",
       "      <td>0.465537</td>\n",
       "      <td>1</td>\n",
       "    </tr>\n",
       "    <tr>\n",
       "      <th>4</th>\n",
       "      <td>4</td>\n",
       "      <td>ALB</td>\n",
       "      <td>32.141019</td>\n",
       "      <td>728.89795</td>\n",
       "      <td>7297.0</td>\n",
       "      <td>0.465537</td>\n",
       "      <td>1</td>\n",
       "    </tr>\n",
       "    <tr>\n",
       "      <th>...</th>\n",
       "      <td>...</td>\n",
       "      <td>...</td>\n",
       "      <td>...</td>\n",
       "      <td>...</td>\n",
       "      <td>...</td>\n",
       "      <td>...</td>\n",
       "      <td>...</td>\n",
       "    </tr>\n",
       "    <tr>\n",
       "      <th>5799995</th>\n",
       "      <td>5799995</td>\n",
       "      <td>ZAF</td>\n",
       "      <td>68.294901</td>\n",
       "      <td>82408.55000</td>\n",
       "      <td>9602.0</td>\n",
       "      <td>0.655524</td>\n",
       "      <td>100</td>\n",
       "    </tr>\n",
       "    <tr>\n",
       "      <th>5799996</th>\n",
       "      <td>5799996</td>\n",
       "      <td>ZAF</td>\n",
       "      <td>68.294901</td>\n",
       "      <td>82408.55000</td>\n",
       "      <td>9602.0</td>\n",
       "      <td>0.655524</td>\n",
       "      <td>100</td>\n",
       "    </tr>\n",
       "    <tr>\n",
       "      <th>5799997</th>\n",
       "      <td>5799997</td>\n",
       "      <td>ZAF</td>\n",
       "      <td>68.294901</td>\n",
       "      <td>82408.55000</td>\n",
       "      <td>9602.0</td>\n",
       "      <td>0.655524</td>\n",
       "      <td>100</td>\n",
       "    </tr>\n",
       "    <tr>\n",
       "      <th>5799998</th>\n",
       "      <td>5799998</td>\n",
       "      <td>ZAF</td>\n",
       "      <td>68.294901</td>\n",
       "      <td>82408.55000</td>\n",
       "      <td>9602.0</td>\n",
       "      <td>0.655524</td>\n",
       "      <td>100</td>\n",
       "    </tr>\n",
       "    <tr>\n",
       "      <th>5799999</th>\n",
       "      <td>5799999</td>\n",
       "      <td>ZAF</td>\n",
       "      <td>68.294901</td>\n",
       "      <td>82408.55000</td>\n",
       "      <td>9602.0</td>\n",
       "      <td>0.655524</td>\n",
       "      <td>100</td>\n",
       "    </tr>\n",
       "  </tbody>\n",
       "</table>\n",
       "<p>5800000 rows × 7 columns</p>\n",
       "</div>"
      ],
      "text/plain": [
       "         Unnamed: 0 country_code        G_j       income     m_j       p_j  \\\n",
       "0                 0          ALB  32.141019    728.89795  7297.0  0.465537   \n",
       "1                 1          ALB  32.141019    728.89795  7297.0  0.465537   \n",
       "2                 2          ALB  32.141019    728.89795  7297.0  0.465537   \n",
       "3                 3          ALB  32.141019    728.89795  7297.0  0.465537   \n",
       "4                 4          ALB  32.141019    728.89795  7297.0  0.465537   \n",
       "...             ...          ...        ...          ...     ...       ...   \n",
       "5799995     5799995          ZAF  68.294901  82408.55000  9602.0  0.655524   \n",
       "5799996     5799996          ZAF  68.294901  82408.55000  9602.0  0.655524   \n",
       "5799997     5799997          ZAF  68.294901  82408.55000  9602.0  0.655524   \n",
       "5799998     5799998          ZAF  68.294901  82408.55000  9602.0  0.655524   \n",
       "5799999     5799999          ZAF  68.294901  82408.55000  9602.0  0.655524   \n",
       "\n",
       "         c_i_parents  \n",
       "0                  1  \n",
       "1                  1  \n",
       "2                  1  \n",
       "3                  1  \n",
       "4                  1  \n",
       "...              ...  \n",
       "5799995          100  \n",
       "5799996          100  \n",
       "5799997          100  \n",
       "5799998          100  \n",
       "5799999          100  \n",
       "\n",
       "[5800000 rows x 7 columns]"
      ]
     },
     "execution_count": 17,
     "metadata": {},
     "output_type": "execute_result"
    }
   ],
   "source": [
    "df"
   ]
  },
  {
   "cell_type": "markdown",
   "id": "48fd9e5c",
   "metadata": {},
   "source": [
    "### 4.1. Appliquez une ANOVA sur vos données, en n’incluant comme variable explicative que le pays de l’individu. Analysez la performance du modèle."
   ]
  },
  {
   "cell_type": "raw",
   "id": "e3ebb55e",
   "metadata": {},
   "source": [
    "On veut étudier ici l'influence du pays de l'individu sur son revenu. On peut visualiser cette influence en affichant les boîtes à moustaches."
   ]
  },
  {
   "cell_type": "code",
   "execution_count": 18,
   "id": "eb942c43",
   "metadata": {},
   "outputs": [],
   "source": [
    "code_pays=['LUX','AUT','CZE','MNE','VNM']"
   ]
  },
  {
   "cell_type": "code",
   "execution_count": 19,
   "id": "1987c973",
   "metadata": {},
   "outputs": [
    {
     "data": {
      "text/plain": [
       "['LUX', 'AUT', 'CZE', 'MNE', 'VNM']"
      ]
     },
     "execution_count": 19,
     "metadata": {},
     "output_type": "execute_result"
    }
   ],
   "source": [
    "code_pays"
   ]
  },
  {
   "cell_type": "code",
   "execution_count": 20,
   "id": "5fd014ef",
   "metadata": {},
   "outputs": [
    {
     "data": {
      "text/html": [
       "<div>\n",
       "<style scoped>\n",
       "    .dataframe tbody tr th:only-of-type {\n",
       "        vertical-align: middle;\n",
       "    }\n",
       "\n",
       "    .dataframe tbody tr th {\n",
       "        vertical-align: top;\n",
       "    }\n",
       "\n",
       "    .dataframe thead th {\n",
       "        text-align: right;\n",
       "    }\n",
       "</style>\n",
       "<table border=\"1\" class=\"dataframe\">\n",
       "  <thead>\n",
       "    <tr style=\"text-align: right;\">\n",
       "      <th></th>\n",
       "      <th>Unnamed: 0</th>\n",
       "      <th>country_code</th>\n",
       "      <th>G_j</th>\n",
       "      <th>income</th>\n",
       "      <th>m_j</th>\n",
       "      <th>p_j</th>\n",
       "      <th>c_i_parents</th>\n",
       "    </tr>\n",
       "  </thead>\n",
       "  <tbody>\n",
       "    <tr>\n",
       "      <th>150000</th>\n",
       "      <td>150000</td>\n",
       "      <td>AUT</td>\n",
       "      <td>29.532585</td>\n",
       "      <td>2958.0764</td>\n",
       "      <td>36193.0</td>\n",
       "      <td>0.348050</td>\n",
       "      <td>1</td>\n",
       "    </tr>\n",
       "    <tr>\n",
       "      <th>150001</th>\n",
       "      <td>150001</td>\n",
       "      <td>AUT</td>\n",
       "      <td>29.532585</td>\n",
       "      <td>2958.0764</td>\n",
       "      <td>36193.0</td>\n",
       "      <td>0.348050</td>\n",
       "      <td>1</td>\n",
       "    </tr>\n",
       "    <tr>\n",
       "      <th>150002</th>\n",
       "      <td>150002</td>\n",
       "      <td>AUT</td>\n",
       "      <td>29.532585</td>\n",
       "      <td>2958.0764</td>\n",
       "      <td>36193.0</td>\n",
       "      <td>0.348050</td>\n",
       "      <td>1</td>\n",
       "    </tr>\n",
       "    <tr>\n",
       "      <th>150003</th>\n",
       "      <td>150003</td>\n",
       "      <td>AUT</td>\n",
       "      <td>29.532585</td>\n",
       "      <td>2958.0764</td>\n",
       "      <td>36193.0</td>\n",
       "      <td>0.348050</td>\n",
       "      <td>1</td>\n",
       "    </tr>\n",
       "    <tr>\n",
       "      <th>150004</th>\n",
       "      <td>150004</td>\n",
       "      <td>AUT</td>\n",
       "      <td>29.532585</td>\n",
       "      <td>2958.0764</td>\n",
       "      <td>36193.0</td>\n",
       "      <td>0.348050</td>\n",
       "      <td>1</td>\n",
       "    </tr>\n",
       "    <tr>\n",
       "      <th>...</th>\n",
       "      <td>...</td>\n",
       "      <td>...</td>\n",
       "      <td>...</td>\n",
       "      <td>...</td>\n",
       "      <td>...</td>\n",
       "      <td>...</td>\n",
       "      <td>...</td>\n",
       "    </tr>\n",
       "    <tr>\n",
       "      <th>5649995</th>\n",
       "      <td>5649995</td>\n",
       "      <td>VNM</td>\n",
       "      <td>39.354551</td>\n",
       "      <td>9522.4660</td>\n",
       "      <td>2578.0</td>\n",
       "      <td>0.504399</td>\n",
       "      <td>100</td>\n",
       "    </tr>\n",
       "    <tr>\n",
       "      <th>5649996</th>\n",
       "      <td>5649996</td>\n",
       "      <td>VNM</td>\n",
       "      <td>39.354551</td>\n",
       "      <td>9522.4660</td>\n",
       "      <td>2578.0</td>\n",
       "      <td>0.504399</td>\n",
       "      <td>100</td>\n",
       "    </tr>\n",
       "    <tr>\n",
       "      <th>5649997</th>\n",
       "      <td>5649997</td>\n",
       "      <td>VNM</td>\n",
       "      <td>39.354551</td>\n",
       "      <td>9522.4660</td>\n",
       "      <td>2578.0</td>\n",
       "      <td>0.504399</td>\n",
       "      <td>100</td>\n",
       "    </tr>\n",
       "    <tr>\n",
       "      <th>5649998</th>\n",
       "      <td>5649998</td>\n",
       "      <td>VNM</td>\n",
       "      <td>39.354551</td>\n",
       "      <td>9522.4660</td>\n",
       "      <td>2578.0</td>\n",
       "      <td>0.504399</td>\n",
       "      <td>100</td>\n",
       "    </tr>\n",
       "    <tr>\n",
       "      <th>5649999</th>\n",
       "      <td>5649999</td>\n",
       "      <td>VNM</td>\n",
       "      <td>39.354551</td>\n",
       "      <td>9522.4660</td>\n",
       "      <td>2578.0</td>\n",
       "      <td>0.504399</td>\n",
       "      <td>100</td>\n",
       "    </tr>\n",
       "  </tbody>\n",
       "</table>\n",
       "<p>250000 rows × 7 columns</p>\n",
       "</div>"
      ],
      "text/plain": [
       "         Unnamed: 0 country_code        G_j     income      m_j       p_j  \\\n",
       "150000       150000          AUT  29.532585  2958.0764  36193.0  0.348050   \n",
       "150001       150001          AUT  29.532585  2958.0764  36193.0  0.348050   \n",
       "150002       150002          AUT  29.532585  2958.0764  36193.0  0.348050   \n",
       "150003       150003          AUT  29.532585  2958.0764  36193.0  0.348050   \n",
       "150004       150004          AUT  29.532585  2958.0764  36193.0  0.348050   \n",
       "...             ...          ...        ...        ...      ...       ...   \n",
       "5649995     5649995          VNM  39.354551  9522.4660   2578.0  0.504399   \n",
       "5649996     5649996          VNM  39.354551  9522.4660   2578.0  0.504399   \n",
       "5649997     5649997          VNM  39.354551  9522.4660   2578.0  0.504399   \n",
       "5649998     5649998          VNM  39.354551  9522.4660   2578.0  0.504399   \n",
       "5649999     5649999          VNM  39.354551  9522.4660   2578.0  0.504399   \n",
       "\n",
       "         c_i_parents  \n",
       "150000             1  \n",
       "150001             1  \n",
       "150002             1  \n",
       "150003             1  \n",
       "150004             1  \n",
       "...              ...  \n",
       "5649995          100  \n",
       "5649996          100  \n",
       "5649997          100  \n",
       "5649998          100  \n",
       "5649999          100  \n",
       "\n",
       "[250000 rows x 7 columns]"
      ]
     },
     "execution_count": 20,
     "metadata": {},
     "output_type": "execute_result"
    }
   ],
   "source": [
    "income_pays = df[df['country_code'].isin(code_pays)]\n",
    "income_pays"
   ]
  },
  {
   "cell_type": "code",
   "execution_count": 21,
   "id": "95a82fb5",
   "metadata": {},
   "outputs": [
    {
     "data": {
      "image/png": "[encoded data removed]",
      "text/plain": [
       "<Figure size 432x288 with 1 Axes>"
      ]
     },
     "metadata": {
      "needs_background": "light"
     },
     "output_type": "display_data"
    }
   ],
   "source": [
    "# Représentation des distributions par boxplot \n",
    "\n",
    "sns.boxplot(x=\"country_code\", y=\"income\", data=income_pays)\n",
    "plt.title('Revenu moyen de la population par pays', fontsize=13, fontweight='bold')\n",
    "plt.xlabel('Pays',fontsize=12, fontweight='bold')\n",
    "plt.ylabel('Revenu', fontsize=12, fontweight='bold')\n",
    "\n",
    "plt.show()"
   ]
  },
  {
   "cell_type": "raw",
   "id": "d30df329",
   "metadata": {},
   "source": [
    "Le revenu moyen de la population des 5 pays representatifs de leur cluster semblent assez différentes, même si l'ordre de grandeur de ces écarts n'est pas très grand. La question sera de savoir si ces écarts sont significatifs ou pas. C'est l'ANOVA qui nous permettra de répondre à cette question."
   ]
  },
  {
   "cell_type": "code",
   "execution_count": 22,
   "id": "36e1da18",
   "metadata": {},
   "outputs": [
    {
     "data": {
      "image/png": "[encoded data removed]",
      "text/plain": [
       "<Figure size 2160x1080 with 1 Axes>"
      ]
     },
     "metadata": {
      "needs_background": "light"
     },
     "output_type": "display_data"
    }
   ],
   "source": [
    "plt.figure(figsize=(30,15))\n",
    "\n",
    "sns.boxplot(\n",
    "    data=df, \n",
    "    x='income', y='country_code', \n",
    "    showfliers=False, showmeans=True)\n",
    "\n",
    "plt.title(\"Distribution des revenus moyens par pays\", size=20)\n",
    "plt.ylabel(\"Pays\", size=15)\n",
    "plt.xlabel(\"Revenus\", size=15)\n",
    "\n",
    "plt.show()"
   ]
  },
  {
   "cell_type": "raw",
   "id": "590962af",
   "metadata": {},
   "source": [
    "Ce boxplots de distributions de revenu moyen par pays nous montre que les varinces ne semblent pas être egales. "
   ]
  },
  {
   "cell_type": "raw",
   "id": "d7be6091",
   "metadata": {},
   "source": [
    "La prblemtique de l'ANOVA consiste à utiliser les moyennes observées sur les échantillons pour conclure à des différences significatives sur les moyennes (espérance mathématique) dans les sous-populations. H0 : la moyenne de la variable dépendante est la même quelque soit les groupes définis par le facteur, il est égal à la moyenne global. Le test de Fisher nous permet de vérifier l'H0."
   ]
  },
  {
   "cell_type": "code",
   "execution_count": 23,
   "id": "95a075f0",
   "metadata": {},
   "outputs": [],
   "source": [
    "df_model = df.copy() "
   ]
  },
  {
   "cell_type": "raw",
   "id": "36219b81",
   "metadata": {},
   "source": [
    "Puisque nous effectuons une étude pour observer une association, au lieu de construire un modèle prédictif, nous ne diviserons pas nos données en données d'entraînement et de test."
   ]
  },
  {
   "cell_type": "code",
   "execution_count": 24,
   "id": "a6878ea5",
   "metadata": {
    "scrolled": false
   },
   "outputs": [
    {
     "name": "stdout",
     "output_type": "stream",
     "text": [
      "                            OLS Regression Results                            \n",
      "==============================================================================\n",
      "Dep. Variable:                 income   R-squared:                       0.496\n",
      "Model:                            OLS   Adj. R-squared:                  0.496\n",
      "Method:                 Least Squares   F-statistic:                 4.971e+04\n",
      "Date:                Mon, 25 Apr 2022   Prob (F-statistic):               0.00\n",
      "Time:                        13:46:45   Log-Likelihood:            -5.9310e+07\n",
      "No. Observations:             5800000   AIC:                         1.186e+08\n",
      "Df Residuals:                 5799884   BIC:                         1.186e+08\n",
      "Df Model:                         115                                         \n",
      "Covariance Type:            nonrobust                                         \n",
      "=======================================================================================\n",
      "                          coef    std err          t      P>|t|      [0.025      0.975]\n",
      "---------------------------------------------------------------------------------------\n",
      "Intercept            2994.8299     29.875    100.244      0.000    2936.275    3053.384\n",
      "country_code[T.ARG]  2853.0548     42.250     67.528      0.000    2770.246    2935.863\n",
      "country_code[T.ARM] -1366.4471     42.250    -32.342      0.000   -1449.256   -1283.639\n",
      "country_code[T.AUT]  1.364e+04     42.250    322.906      0.000    1.36e+04    1.37e+04\n",
      "country_code[T.AZE]  -637.4009     42.250    -15.086      0.000    -720.209    -554.592\n",
      "country_code[T.BEL]  1.203e+04     42.250    284.728      0.000    1.19e+04    1.21e+04\n",
      "country_code[T.BFA] -2076.8772     42.250    -49.157      0.000   -2159.686   -1994.069\n",
      "country_code[T.BGD] -1996.1375     42.250    -47.246      0.000   -2078.946   -1913.329\n",
      "country_code[T.BGR]  1990.1487     42.250     47.104      0.000    1907.340    2072.957\n",
      "country_code[T.BIH]  3339.8574     42.250     79.050      0.000    3257.049    3422.666\n",
      "country_code[T.BLR]   926.3336     42.250     21.925      0.000     843.525    1009.142\n",
      "country_code[T.BOL]    21.4339     42.250      0.507      0.612     -61.375     104.243\n",
      "country_code[T.BRA]  1812.6547     42.250     42.903      0.000    1729.846    1895.463\n",
      "country_code[T.BTN] -1478.9008     42.250    -35.004      0.000   -1561.709   -1396.092\n",
      "country_code[T.CAF] -2183.5300     42.250    -51.681      0.000   -2266.339   -2100.721\n",
      "country_code[T.CAN]  2.074e+04     42.250    491.001      0.000    2.07e+04    2.08e+04\n",
      "country_code[T.CHL]  4056.7801     42.250     96.018      0.000    3973.971    4139.589\n",
      "country_code[T.CHN]  -472.0712     42.250    -11.173      0.000    -554.880    -389.263\n",
      "country_code[T.CIV] -2594.9947     42.250    -61.420      0.000   -2677.803   -2512.186\n",
      "country_code[T.CMR] -1200.3359     42.250    -28.410      0.000   -1283.145   -1117.527\n",
      "country_code[T.COD] -2718.8139     42.250    -64.351      0.000   -2801.622   -2636.005\n",
      "country_code[T.COL]   552.1754     42.250     13.069      0.000     469.367     634.984\n",
      "country_code[T.CRI]  2585.5567     42.250     61.197      0.000    2502.748    2668.365\n",
      "country_code[T.CYP]  1.435e+04     42.250    339.658      0.000    1.43e+04    1.44e+04\n",
      "country_code[T.CZE]  5240.4635     42.250    124.035      0.000    5157.655    5323.272\n",
      "country_code[T.DEU]  1.507e+04     42.250    356.612      0.000     1.5e+04    1.51e+04\n",
      "country_code[T.DNK]  1.405e+04     42.250    332.504      0.000     1.4e+04    1.41e+04\n",
      "country_code[T.DOM]   563.5722     42.250     13.339      0.000     480.764     646.381\n",
      "country_code[T.ECU]   388.9111     42.250      9.205      0.000     306.103     471.720\n",
      "country_code[T.EGY] -1025.2525     42.250    -24.266      0.000   -1108.061    -942.444\n",
      "country_code[T.ESP]  1.012e+04     42.250    239.578      0.000       1e+04    1.02e+04\n",
      "country_code[T.EST]  4707.2327     42.250    111.414      0.000    4624.424    4790.041\n",
      "country_code[T.FIN]  1.331e+04     42.250    315.065      0.000    1.32e+04    1.34e+04\n",
      "country_code[T.FJI]  -896.0990     42.250    -21.209      0.000    -978.908    -813.290\n",
      "country_code[T.FRA]  1.531e+04     42.250    362.475      0.000    1.52e+04    1.54e+04\n",
      "country_code[T.GBR]  1.871e+04     42.250    442.953      0.000    1.86e+04    1.88e+04\n",
      "country_code[T.GEO] -1631.0713     42.250    -38.605      0.000   -1713.880   -1548.263\n",
      "country_code[T.GHA] -2258.2274     42.250    -53.449      0.000   -2341.036   -2175.419\n",
      "country_code[T.GIN] -2298.8179     42.250    -54.410      0.000   -2381.626   -2216.009\n",
      "country_code[T.GRC]  8732.4444     42.250    206.685      0.000    8649.636    8815.253\n",
      "country_code[T.GTM]  -852.3551     42.250    -20.174      0.000    -935.164    -769.547\n",
      "country_code[T.HND]   301.4385     42.250      7.135      0.000     218.630     384.247\n",
      "country_code[T.HRV]  4721.6359     42.250    111.755      0.000    4638.827    4804.444\n",
      "country_code[T.HUN]  3106.5113     42.250     73.527      0.000    3023.703    3189.320\n",
      "country_code[T.IDN] -1660.2116     42.250    -39.295      0.000   -1743.020   -1577.403\n",
      "country_code[T.IND] -2070.5604     42.250    -49.007      0.000   -2153.369   -1987.752\n",
      "country_code[T.IRL]  1.472e+04     42.250    348.305      0.000    1.46e+04    1.48e+04\n",
      "country_code[T.IRN]  2837.8256     42.250     67.167      0.000    2755.017    2920.634\n",
      "country_code[T.IRQ] -1289.3176     42.250    -30.516      0.000   -1372.126   -1206.509\n",
      "country_code[T.ISL]  2.389e+04     42.250    565.530      0.000    2.38e+04     2.4e+04\n",
      "country_code[T.ISR]  8105.4882     42.250    191.846      0.000    8022.680    8188.297\n",
      "country_code[T.ITA]  1.193e+04     42.250    282.376      0.000    1.18e+04     1.2e+04\n",
      "country_code[T.JOR]    53.8011     42.250      1.273      0.203     -29.007     136.610\n",
      "country_code[T.JPN]  1.444e+04     42.250    341.731      0.000    1.44e+04    1.45e+04\n",
      "country_code[T.KAZ]  -755.6801     42.250    -17.886      0.000    -838.489    -672.872\n",
      "country_code[T.KEN] -2475.5099     42.250    -58.592      0.000   -2558.318   -2392.701\n",
      "country_code[T.KGZ] -1221.6107     42.250    -28.914      0.000   -1304.419   -1138.802\n",
      "country_code[T.KHM] -1508.4897     42.250    -35.704      0.000   -1591.298   -1425.681\n",
      "country_code[T.KOR]  1.223e+04     42.250    289.532      0.000    1.21e+04    1.23e+04\n",
      "country_code[T.LAO] -1991.4225     42.250    -47.134      0.000   -2074.231   -1908.614\n",
      "country_code[T.LBR] -2379.8226     42.250    -56.327      0.000   -2462.631   -2297.014\n",
      "country_code[T.LKA] -1116.8897     42.250    -26.435      0.000   -1199.698   -1034.081\n",
      "country_code[T.LTU]  3628.8267     42.250     85.889      0.000    3546.018    3711.635\n",
      "country_code[T.LUX]  2.222e+04     42.250    525.981      0.000    2.21e+04    2.23e+04\n",
      "country_code[T.LVA]  3769.6447     42.250     89.222      0.000    3686.836    3852.453\n",
      "country_code[T.MAR]  -657.2293     42.250    -15.556      0.000    -740.038    -574.421\n",
      "country_code[T.MDA]  -845.6585     42.250    -20.016      0.000    -928.467    -762.850\n",
      "country_code[T.MDG] -2649.5928     42.250    -62.712      0.000   -2732.401   -2566.784\n",
      "country_code[T.MEX]   891.0004     42.250     21.089      0.000     808.192     973.809\n",
      "country_code[T.MKD]  1604.5664     42.250     37.978      0.000    1521.758    1687.375\n",
      "country_code[T.MLI] -2313.7549     42.250    -54.763      0.000   -2396.563   -2230.946\n",
      "country_code[T.MNE]  3553.0692     42.250     84.096      0.000    3470.261    3635.878\n",
      "country_code[T.MNG]  -656.7425     42.250    -15.544      0.000    -739.551    -573.934\n",
      "country_code[T.MOZ] -2302.3494     42.250    -54.493      0.000   -2385.158   -2219.541\n",
      "country_code[T.MRT] -1196.2208     42.250    -28.313      0.000   -1279.029   -1113.412\n",
      "country_code[T.MWI] -2080.5645     42.250    -49.244      0.000   -2163.373   -1997.756\n",
      "country_code[T.MYS]  3011.5125     42.250     71.278      0.000    2928.704    3094.321\n",
      "country_code[T.NER] -2344.7005     42.250    -55.496      0.000   -2427.509   -2261.892\n",
      "country_code[T.NGA] -2302.9745     42.250    -54.508      0.000   -2385.783   -2220.166\n",
      "country_code[T.NIC]  -475.4966     42.250    -11.254      0.000    -558.305    -392.688\n",
      "country_code[T.NLD]  1.473e+04     42.250    348.729      0.000    1.47e+04    1.48e+04\n",
      "country_code[T.NOR]  1.949e+04     42.250    461.267      0.000    1.94e+04    1.96e+04\n",
      "country_code[T.NPL] -2080.4383     42.250    -49.241      0.000   -2163.247   -1997.630\n",
      "country_code[T.PAK] -2106.9906     42.250    -49.870      0.000   -2189.799   -2024.182\n",
      "country_code[T.PAN]  2140.3095     42.250     50.658      0.000    2057.501    2223.118\n",
      "country_code[T.PER]   335.7034     42.250      7.946      0.000     252.895     418.512\n",
      "country_code[T.PHL] -1520.7670     42.250    -35.994      0.000   -1603.576   -1437.958\n",
      "country_code[T.POL]  2746.8903     42.250     65.015      0.000    2664.082    2829.699\n",
      "country_code[T.PRT]  7103.8455     42.250    168.138      0.000    7021.037    7186.654\n",
      "country_code[T.PRY]   283.2511     42.250      6.704      0.000     200.442     366.060\n",
      "country_code[T.PSE] -1880.7314     42.250    -44.514      0.000   -1963.540   -1797.923\n",
      "country_code[T.ROU]   323.5073     42.250      7.657      0.000     240.699     406.316\n",
      "country_code[T.RUS]  4161.9408     42.250     98.507      0.000    4079.132    4244.749\n",
      "country_code[T.SDN] -1909.4828     42.250    -45.195      0.000   -1992.291   -1826.674\n",
      "country_code[T.SLV]  -139.6051     42.250     -3.304      0.001    -222.414     -56.797\n",
      "country_code[T.SRB]  1884.9209     42.250     44.613      0.000    1802.112    1967.730\n",
      "country_code[T.SVK]  3101.7500     42.250     73.414      0.000    3018.941    3184.559\n",
      "country_code[T.SVN]  9111.1776     42.250    215.649      0.000    9028.369    9193.986\n",
      "country_code[T.SWE]  1.319e+04     42.250    312.175      0.000    1.31e+04    1.33e+04\n",
      "country_code[T.SWZ] -2464.5461     42.250    -58.332      0.000   -2547.355   -2381.738\n",
      "country_code[T.SYR] -2309.0124     42.250    -54.651      0.000   -2391.821   -2226.204\n",
      "country_code[T.THA]  -251.1173     42.250     -5.944      0.000    -333.926    -168.309\n",
      "country_code[T.TJK]  -924.9777     42.250    -21.893      0.000   -1007.786    -842.169\n",
      "country_code[T.TLS] -2267.2195     42.250    -53.662      0.000   -2350.028   -2184.411\n",
      "country_code[T.TUR]  3055.6354     42.250     72.323      0.000    2972.827    3138.444\n",
      "country_code[T.TWN]  1.351e+04     42.250    319.654      0.000    1.34e+04    1.36e+04\n",
      "country_code[T.TZA] -2406.0629     42.250    -56.948      0.000   -2488.871   -2323.254\n",
      "country_code[T.UGA] -2007.6236     42.250    -47.518      0.000   -2090.432   -1924.815\n",
      "country_code[T.UKR]   354.5584     42.250      8.392      0.000     271.750     437.367\n",
      "country_code[T.URY]  2295.9550     42.250     54.342      0.000    2213.146    2378.764\n",
      "country_code[T.USA]  2.251e+04     42.250    532.751      0.000    2.24e+04    2.26e+04\n",
      "country_code[T.VEN]   172.3178     42.250      4.079      0.000      89.509     255.126\n",
      "country_code[T.VNM] -1617.0559     42.250    -38.273      0.000   -1699.865   -1534.247\n",
      "country_code[T.XKX]  -818.5609     42.250    -19.374      0.000    -901.369    -735.752\n",
      "country_code[T.YEM] -1952.1940     42.250    -46.206      0.000   -2035.003   -1869.385\n",
      "country_code[T.ZAF]  2623.0750     42.250     62.085      0.000    2540.266    2705.884\n",
      "==============================================================================\n",
      "Omnibus:                  7299083.278   Durbin-Watson:                   0.001\n",
      "Prob(Omnibus):                  0.000   Jarque-Bera (JB):       2103715771.082\n",
      "Skew:                           6.739   Prob(JB):                         0.00\n",
      "Kurtosis:                      95.322   Cond. No.                         117.\n",
      "==============================================================================\n",
      "\n",
      "Notes:\n",
      "[1] Standard Errors assume that the covariance matrix of the errors is correctly specified.\n"
     ]
    }
   ],
   "source": [
    "anova_income = smf.ols('income ~ country_code', data=df_model).fit()\n",
    "print(anova_income.summary())"
   ]
  },
  {
   "cell_type": "raw",
   "id": "a175199f",
   "metadata": {},
   "source": [
    "Le R-carré varie de 0 à 1 et mesure la proximité des données avec la droite de régression ajustée. En d’autres termes, il indique quel est le pourcentage de la variabilité du résultat (variable dépendante) expliqué par le modèle.\n",
    "\n",
    "Nous évaluons ici l’association entre notre résultat (revenu) et notre variable indépendante, le code pays. Exemple de lecture : ARG (première colonne), qui a une association positive de 0,2853 (ou coefficient, deuxième colonne), avec une erreur-type de 42,250 (troisième colonne), avec un rapport t (pour une distribution t) de  67.528 (quatrième colonne) qui donne une valeur p <0,000 (cinquième colonne), correspondant à un coefficient bêta compris entre 2770.246 (limite inférieure, sixième colonne) et 2935.863 (limite supérieure, septième colonne).\n",
    "\n",
    "Le coefficient bêta peut prendre une valeur comprise entre -∞ et +∞.\n",
    "Un coefficient positif représente une association linéaire positive ;\n",
    "Un coefficient négatif représente une association linéaire négative."
   ]
  },
  {
   "cell_type": "raw",
   "id": "d5da3128",
   "metadata": {},
   "source": [
    "La p-valeur du Test de Fischer est 0, on rejette donc l'hypothèse H0 et on conclut que le pays a une influence sur le revenu.\n",
    "Selon le test de Fischer, un impact statistiquement significatif du pays sur le revenu moyen du pays. La part de variance expliquée par le modèle de régression) est ici de 0.496. Cependant, nous devons vérifier certaines conditions afin de valider l'ANOVA : la normalité des résidus et l'homogénéité des variances."
   ]
  },
  {
   "cell_type": "code",
   "execution_count": 25,
   "id": "b2cb4704",
   "metadata": {},
   "outputs": [
    {
     "data": {
      "image/png": "[encoded data removed]",
      "text/plain": [
       "<Figure size 432x360 with 1 Axes>"
      ]
     },
     "metadata": {
      "needs_background": "light"
     },
     "output_type": "display_data"
    }
   ],
   "source": [
    "# droite de Henry pour une représentation graphique de la distribution de résidus\n",
    "\n",
    "def residus_henry(model, nom, couleur, ax):\n",
    "    sm.qqplot(model.resid, ax=ax, line=\"45\", fit=True, color=couleur)\n",
    "    ax.set_title(\"Droite de Henry\", fontsize=20)\n",
    "    ax.set_xlabel(\"Quantiles théoriques\" ,fontsize=15), ax.set_ylabel(\"Quantiles observés\", fontsize=16)\n",
    "fig, ax = plt.subplots(1, 1, figsize=(6, 5))\n",
    "residus_henry(anova_income, \"ANOVA\", \"brown\", ax) ; \n",
    "\n",
    "plt.show()"
   ]
  },
  {
   "cell_type": "raw",
   "id": "bd2ccc3b",
   "metadata": {},
   "source": [
    "On observe que les résidus ne suivraient pas une loi normale. On effectuera une test de Kolmogorov-Smirnov pour l'affirmer ou non."
   ]
  },
  {
   "cell_type": "code",
   "execution_count": 26,
   "id": "06f4af20",
   "metadata": {},
   "outputs": [
    {
     "name": "stdout",
     "output_type": "stream",
     "text": [
      "TEST DE KOLMOGOROV-SMIRNOV:  statistic = 0.2468512068965517  pvalue = 0.0\n"
     ]
    }
   ],
   "source": [
    "def test_residus_KS(model):\n",
    "    MR=model.resid\n",
    "    KS=st.ks_2samp(MR,list(np.random.normal(MR.mean(), MR.std(), len(MR))))\n",
    "    print(\"TEST DE KOLMOGOROV-SMIRNOV:\", \" statistic =\", KS[0], \" pvalue =\", KS[1])\n",
    "\n",
    "test_residus_KS(anova_income) # ne suit pas une loi normale"
   ]
  },
  {
   "cell_type": "code",
   "execution_count": 27,
   "id": "786be867",
   "metadata": {},
   "outputs": [
    {
     "name": "stdout",
     "output_type": "stream",
     "text": [
      "TEST DE BREUSCH-PAGAN:  statistic = -61491.47138140139  pvalue = 1.0\n"
     ]
    }
   ],
   "source": [
    "# Vérification de l'homoscédasticité des résidus : Breusch-Pagan\n",
    "\n",
    "def test_residus_BP(model):\n",
    "    BP=sm.stats.diagnostic.het_breuschpagan(model.resid, model.model.exog)\n",
    "    print(\"TEST DE BREUSCH-PAGAN:\", \" statistic =\", BP[0], \" pvalue =\", BP[1])\n",
    "    \n",
    "test_residus_BP(anova_income) # hétérogénéité"
   ]
  },
  {
   "cell_type": "raw",
   "id": "aeb3bd89",
   "metadata": {},
   "source": [
    "Nous allons voir si les résidus du second modèle (passage aux logarithmes) suivent plus une loi normale que ceux du premier modèle."
   ]
  },
  {
   "cell_type": "code",
   "execution_count": 28,
   "id": "64b2a72a",
   "metadata": {},
   "outputs": [],
   "source": [
    "del df_model[\"Unnamed: 0\"]"
   ]
  },
  {
   "cell_type": "code",
   "execution_count": 29,
   "id": "1303cc07",
   "metadata": {},
   "outputs": [],
   "source": [
    "# Ajout des colonnes de log\n",
    "\n",
    "df_model[\"ln_income\"] = np.log(df_model[\"income\"])\n",
    "df_model[\"ln_m_j\"] = np.log(df_model[\"m_j\"])"
   ]
  },
  {
   "cell_type": "code",
   "execution_count": 30,
   "id": "504b0eb4",
   "metadata": {},
   "outputs": [
    {
     "data": {
      "text/html": [
       "<div>\n",
       "<style scoped>\n",
       "    .dataframe tbody tr th:only-of-type {\n",
       "        vertical-align: middle;\n",
       "    }\n",
       "\n",
       "    .dataframe tbody tr th {\n",
       "        vertical-align: top;\n",
       "    }\n",
       "\n",
       "    .dataframe thead th {\n",
       "        text-align: right;\n",
       "    }\n",
       "</style>\n",
       "<table border=\"1\" class=\"dataframe\">\n",
       "  <thead>\n",
       "    <tr style=\"text-align: right;\">\n",
       "      <th></th>\n",
       "      <th>country_code</th>\n",
       "      <th>G_j</th>\n",
       "      <th>income</th>\n",
       "      <th>m_j</th>\n",
       "      <th>p_j</th>\n",
       "      <th>c_i_parents</th>\n",
       "      <th>ln_income</th>\n",
       "      <th>ln_m_j</th>\n",
       "    </tr>\n",
       "  </thead>\n",
       "  <tbody>\n",
       "    <tr>\n",
       "      <th>0</th>\n",
       "      <td>ALB</td>\n",
       "      <td>32.141019</td>\n",
       "      <td>728.89795</td>\n",
       "      <td>7297.0</td>\n",
       "      <td>0.465537</td>\n",
       "      <td>1</td>\n",
       "      <td>6.591534</td>\n",
       "      <td>8.895219</td>\n",
       "    </tr>\n",
       "    <tr>\n",
       "      <th>1</th>\n",
       "      <td>ALB</td>\n",
       "      <td>32.141019</td>\n",
       "      <td>728.89795</td>\n",
       "      <td>7297.0</td>\n",
       "      <td>0.465537</td>\n",
       "      <td>1</td>\n",
       "      <td>6.591534</td>\n",
       "      <td>8.895219</td>\n",
       "    </tr>\n",
       "  </tbody>\n",
       "</table>\n",
       "</div>"
      ],
      "text/plain": [
       "  country_code        G_j     income     m_j       p_j  c_i_parents  \\\n",
       "0          ALB  32.141019  728.89795  7297.0  0.465537            1   \n",
       "1          ALB  32.141019  728.89795  7297.0  0.465537            1   \n",
       "\n",
       "   ln_income    ln_m_j  \n",
       "0   6.591534  8.895219  \n",
       "1   6.591534  8.895219  "
      ]
     },
     "execution_count": 30,
     "metadata": {},
     "output_type": "execute_result"
    }
   ],
   "source": [
    "df_model.head(2)"
   ]
  },
  {
   "cell_type": "code",
   "execution_count": 31,
   "id": "161f51db",
   "metadata": {},
   "outputs": [],
   "source": [
    "df_model.to_csv('C:\\\\Users\\\\mfila\\\\df_model.csv')"
   ]
  },
  {
   "cell_type": "code",
   "execution_count": 2,
   "id": "30f8bce0",
   "metadata": {},
   "outputs": [],
   "source": [
    "df_model = pd.read_csv('C:\\\\Users\\\\mfila\\\\df_model.csv')"
   ]
  },
  {
   "cell_type": "code",
   "execution_count": 3,
   "id": "38297b01",
   "metadata": {},
   "outputs": [
    {
     "name": "stdout",
     "output_type": "stream",
     "text": [
      "                            OLS Regression Results                            \n",
      "==============================================================================\n",
      "Dep. Variable:              ln_income   R-squared:                       0.729\n",
      "Model:                            OLS   Adj. R-squared:                  0.729\n",
      "Method:                 Least Squares   F-statistic:                 1.358e+05\n",
      "Date:                Mon, 25 Apr 2022   Prob (F-statistic):               0.00\n",
      "Time:                        14:46:37   Log-Likelihood:            -6.3135e+06\n",
      "No. Observations:             5800000   AIC:                         1.263e+07\n",
      "Df Residuals:                 5799884   BIC:                         1.263e+07\n",
      "Df Model:                         115                                         \n",
      "Covariance Type:            nonrobust                                         \n",
      "=======================================================================================\n",
      "                          coef    std err          t      P>|t|      [0.025      0.975]\n",
      "---------------------------------------------------------------------------------------\n",
      "Intercept               7.8517      0.003   2443.084      0.000       7.845       7.858\n",
      "country_code[T.ARG]     0.4503      0.005     99.083      0.000       0.441       0.459\n",
      "country_code[T.ARM]    -0.5698      0.005   -125.359      0.000      -0.579      -0.561\n",
      "country_code[T.AUT]     1.7383      0.005    382.447      0.000       1.729       1.747\n",
      "country_code[T.AZE]    -0.2478      0.005    -54.524      0.000      -0.257      -0.239\n",
      "country_code[T.BEL]     1.6256      0.005    357.669      0.000       1.617       1.635\n",
      "country_code[T.BFA]    -1.2919      0.005   -284.236      0.000      -1.301      -1.283\n",
      "country_code[T.BGD]    -1.1071      0.005   -243.585      0.000      -1.116      -1.098\n",
      "country_code[T.BGR]     0.4234      0.005     93.164      0.000       0.415       0.432\n",
      "country_code[T.BIH]     0.6881      0.005    151.385      0.000       0.679       0.697\n",
      "country_code[T.BLR]     0.3059      0.005     67.293      0.000       0.297       0.315\n",
      "country_code[T.BOL]    -0.4927      0.005   -108.398      0.000      -0.502      -0.484\n",
      "country_code[T.BRA]     0.0789      0.005     17.363      0.000       0.070       0.088\n",
      "country_code[T.BTN]    -0.7669      0.005   -168.741      0.000      -0.776      -0.758\n",
      "country_code[T.CAF]    -1.7210      0.005   -378.641      0.000      -1.730      -1.712\n",
      "country_code[T.CAN]     1.9628      0.005    431.848      0.000       1.954       1.972\n",
      "country_code[T.CHL]     0.5107      0.005    112.365      0.000       0.502       0.520\n",
      "country_code[T.CHN]    -0.4538      0.005    -99.835      0.000      -0.463      -0.445\n",
      "country_code[T.CIV]    -2.1571      0.005   -474.610      0.000      -2.166      -2.148\n",
      "country_code[T.CMR]    -0.6061      0.005   -133.358      0.000      -0.615      -0.597\n",
      "country_code[T.COD]    -2.5637      0.005   -564.064      0.000      -2.573      -2.555\n",
      "country_code[T.COL]    -0.2953      0.005    -64.980      0.000      -0.304      -0.286\n",
      "country_code[T.CRI]     0.3491      0.005     76.807      0.000       0.340       0.358\n",
      "country_code[T.CYP]     1.7782      0.005    391.238      0.000       1.769       1.787\n",
      "country_code[T.CZE]     1.0542      0.005    231.936      0.000       1.045       1.063\n",
      "country_code[T.DEU]     1.7885      0.005    393.499      0.000       1.780       1.797\n",
      "country_code[T.DNK]     1.7707      0.005    389.576      0.000       1.762       1.780\n",
      "country_code[T.DOM]    -0.1183      0.005    -26.029      0.000      -0.127      -0.109\n",
      "country_code[T.ECU]    -0.2007      0.005    -44.168      0.000      -0.210      -0.192\n",
      "country_code[T.EGY]    -0.4473      0.005    -98.424      0.000      -0.456      -0.438\n",
      "country_code[T.ESP]     1.4575      0.005    320.682      0.000       1.449       1.466\n",
      "country_code[T.EST]     0.9424      0.005    207.341      0.000       0.933       0.951\n",
      "country_code[T.FIN]     1.7185      0.005    378.105      0.000       1.710       1.727\n",
      "country_code[T.FJI]    -0.5096      0.005   -112.114      0.000      -0.518      -0.501\n",
      "country_code[T.FRA]     1.7803      0.005    391.708      0.000       1.771       1.789\n",
      "country_code[T.GBR]     1.9302      0.005    424.671      0.000       1.921       1.939\n",
      "country_code[T.GEO]    -0.9040      0.005   -198.904      0.000      -0.913      -0.895\n",
      "country_code[T.GHA]    -1.5677      0.005   -344.915      0.000      -1.577      -1.559\n",
      "country_code[T.GIN]    -1.5693      0.005   -345.276      0.000      -1.578      -1.560\n",
      "country_code[T.GRC]     1.3265      0.005    291.853      0.000       1.318       1.335\n",
      "country_code[T.GTM]    -0.7844      0.005   -172.578      0.000      -0.793      -0.775\n",
      "country_code[T.HND]    -0.4708      0.005   -103.575      0.000      -0.480      -0.462\n",
      "country_code[T.HRV]     0.9464      0.005    208.226      0.000       0.937       0.955\n",
      "country_code[T.HUN]     0.7374      0.005    162.245      0.000       0.729       0.746\n",
      "country_code[T.IDN]    -0.8822      0.005   -194.107      0.000      -0.891      -0.873\n",
      "country_code[T.IND]    -1.2042      0.005   -264.952      0.000      -1.213      -1.195\n",
      "country_code[T.IRL]     1.7755      0.005    390.636      0.000       1.767       1.784\n",
      "country_code[T.IRN]     0.4875      0.005    107.260      0.000       0.479       0.496\n",
      "country_code[T.IRQ]    -0.6336      0.005   -139.399      0.000      -0.642      -0.625\n",
      "country_code[T.ISL]     2.2098      0.005    486.191      0.000       2.201       2.219\n",
      "country_code[T.ISR]     1.1321      0.005    249.075      0.000       1.123       1.141\n",
      "country_code[T.ITA]     1.5794      0.005    347.499      0.000       1.571       1.588\n",
      "country_code[T.JOR]    -0.0137      0.005     -3.019      0.003      -0.023      -0.005\n",
      "country_code[T.JPN]     1.7288      0.005    380.365      0.000       1.720       1.738\n",
      "country_code[T.KAZ]    -0.2534      0.005    -55.759      0.000      -0.262      -0.245\n",
      "country_code[T.KEN]    -1.7490      0.005   -384.803      0.000      -1.758      -1.740\n",
      "country_code[T.KGZ]    -0.5740      0.005   -126.298      0.000      -0.583      -0.565\n",
      "country_code[T.KHM]    -0.7072      0.005   -155.595      0.000      -0.716      -0.698\n",
      "country_code[T.KOR]     1.5035      0.005    330.788      0.000       1.495       1.512\n",
      "country_code[T.LAO]    -1.1465      0.005   -252.253      0.000      -1.155      -1.138\n",
      "country_code[T.LBR]    -1.6853      0.005   -370.793      0.000      -1.694      -1.676\n",
      "country_code[T.LKA]    -0.5793      0.005   -127.455      0.000      -0.588      -0.570\n",
      "country_code[T.LTU]     0.7493      0.005    164.868      0.000       0.740       0.758\n",
      "country_code[T.LUX]     2.1417      0.005    471.212      0.000       2.133       2.151\n",
      "country_code[T.LVA]     0.7393      0.005    162.664      0.000       0.730       0.748\n",
      "country_code[T.MAR]    -0.3698      0.005    -81.370      0.000      -0.379      -0.361\n",
      "country_code[T.MDA]    -0.3394      0.005    -74.684      0.000      -0.348      -0.331\n",
      "country_code[T.MDG]    -2.3395      0.005   -514.733      0.000      -2.348      -2.331\n",
      "country_code[T.MEX]    -0.0705      0.005    -15.521      0.000      -0.079      -0.062\n",
      "country_code[T.MKD]     0.3187      0.005     70.130      0.000       0.310       0.328\n",
      "country_code[T.MLI]    -1.5050      0.005   -331.131      0.000      -1.514      -1.496\n",
      "country_code[T.MNE]     0.7958      0.005    175.098      0.000       0.787       0.805\n",
      "country_code[T.MNG]    -0.3045      0.005    -66.987      0.000      -0.313      -0.296\n",
      "country_code[T.MOZ]    -1.6754      0.005   -368.610      0.000      -1.684      -1.666\n",
      "country_code[T.MRT]    -0.6340      0.005   -139.490      0.000      -0.643      -0.625\n",
      "country_code[T.MWI]    -1.3767      0.005   -302.902      0.000      -1.386      -1.368\n",
      "country_code[T.MYS]     0.4681      0.005    102.983      0.000       0.459       0.477\n",
      "country_code[T.NER]    -1.6029      0.005   -352.663      0.000      -1.612      -1.594\n",
      "country_code[T.NGA]    -1.6935      0.005   -372.608      0.000      -1.702      -1.685\n",
      "country_code[T.NIC]    -0.4667      0.005   -102.685      0.000      -0.476      -0.458\n",
      "country_code[T.NLD]     1.7897      0.005    393.766      0.000       1.781       1.799\n",
      "country_code[T.NOR]     2.0479      0.005    450.584      0.000       2.039       2.057\n",
      "country_code[T.NPL]    -1.2082      0.005   -265.829      0.000      -1.217      -1.199\n",
      "country_code[T.PAK]    -1.2089      0.005   -265.980      0.000      -1.218      -1.200\n",
      "country_code[T.PAN]     0.1707      0.005     37.546      0.000       0.162       0.180\n",
      "country_code[T.PER]    -0.1560      0.005    -34.333      0.000      -0.165      -0.147\n",
      "country_code[T.PHL]    -0.8789      0.005   -193.381      0.000      -0.888      -0.870\n",
      "country_code[T.POL]     0.6174      0.005    135.837      0.000       0.608       0.626\n",
      "country_code[T.PRT]     1.1456      0.005    252.045      0.000       1.137       1.154\n",
      "country_code[T.PRY]    -0.2593      0.005    -57.042      0.000      -0.268      -0.250\n",
      "country_code[T.PSE]    -1.0424      0.005   -229.343      0.000      -1.051      -1.033\n",
      "country_code[T.ROU]    -0.0021      0.005     -0.451      0.652      -0.011       0.007\n",
      "country_code[T.RUS]     0.7359      0.005    161.906      0.000       0.727       0.745\n",
      "country_code[T.SDN]    -1.0628      0.005   -233.843      0.000      -1.072      -1.054\n",
      "country_code[T.SLV]    -0.2928      0.005    -64.416      0.000      -0.302      -0.284\n",
      "country_code[T.SRB]     0.5168      0.005    113.697      0.000       0.508       0.526\n",
      "country_code[T.SVK]     0.7521      0.005    165.484      0.000       0.743       0.761\n",
      "country_code[T.SVN]     1.4605      0.005    321.340      0.000       1.452       1.469\n",
      "country_code[T.SWE]     1.7271      0.005    379.991      0.000       1.718       1.736\n",
      "country_code[T.SWZ]    -1.9531      0.005   -429.708      0.000      -1.962      -1.944\n",
      "country_code[T.SYR]    -1.5288      0.005   -336.366      0.000      -1.538      -1.520\n",
      "country_code[T.THA]    -0.3427      0.005    -75.401      0.000      -0.352      -0.334\n",
      "country_code[T.TJK]    -0.3702      0.005    -81.460      0.000      -0.379      -0.361\n",
      "country_code[T.TLS]    -1.4278      0.005   -314.131      0.000      -1.437      -1.419\n",
      "country_code[T.TUR]     0.5376      0.005    118.293      0.000       0.529       0.547\n",
      "country_code[T.TWN]     1.6984      0.005    373.675      0.000       1.689       1.707\n",
      "country_code[T.TZA]    -1.7095      0.005   -376.132      0.000      -1.718      -1.701\n",
      "country_code[T.UGA]    -1.2608      0.005   -277.409      0.000      -1.270      -1.252\n",
      "country_code[T.UKR]     0.1597      0.005     35.130      0.000       0.151       0.169\n",
      "country_code[T.URY]     0.3583      0.005     78.838      0.000       0.349       0.367\n",
      "country_code[T.USA]     1.9417      0.005    427.209      0.000       1.933       1.951\n",
      "country_code[T.VEN]    -0.1263      0.005    -27.788      0.000      -0.135      -0.117\n",
      "country_code[T.VNM]    -0.8584      0.005   -188.857      0.000      -0.867      -0.849\n",
      "country_code[T.XKX]    -0.3289      0.005    -72.355      0.000      -0.338      -0.320\n",
      "country_code[T.YEM]    -1.1360      0.005   -249.947      0.000      -1.145      -1.127\n",
      "country_code[T.ZAF]    -0.1340      0.005    -29.474      0.000      -0.143      -0.125\n",
      "==============================================================================\n",
      "Omnibus:                   365997.513   Durbin-Watson:                   0.001\n",
      "Prob(Omnibus):                  0.000   Jarque-Bera (JB):          1707797.570\n",
      "Skew:                          -0.064   Prob(JB):                         0.00\n",
      "Kurtosis:                       5.655   Cond. No.                         117.\n",
      "==============================================================================\n",
      "\n",
      "Notes:\n",
      "[1] Standard Errors assume that the covariance matrix of the errors is correctly specified.\n"
     ]
    }
   ],
   "source": [
    "# Anova après le passage de la colonne income en logarithme\n",
    "# smf calls the package Statsmodel\n",
    "# ols tells Python we are using an Ordinary Least Square (OLS) regression (a type linear regression)\n",
    "# .fit() tells Python we want to fit our function (“run the function”)\n",
    "\n",
    "anova_income_log = smf.ols('ln_income ~ country_code', data=df_model).fit()\n",
    "print(anova_income_log.summary())"
   ]
  },
  {
   "cell_type": "raw",
   "id": "3b8a13f9",
   "metadata": {},
   "source": [
    "Dans ce modèle basé sur le logarithme de le revenu moyen la part de variance expliquée est de 0.729 avec p-valeur de 0.0.\n",
    "La p-valeur de ce test est largement inférieure à 5 %, on peut donc rejeter notre hypothèse nulle, le pays a donc bien un effet sur la distribution des revenus."
   ]
  },
  {
   "cell_type": "code",
   "execution_count": 7,
   "id": "14dd945d",
   "metadata": {},
   "outputs": [
    {
     "data": {
      "image/png": "[encoded data removed]",
      "text/plain": [
       "<Figure size 432x360 with 1 Axes>"
      ]
     },
     "metadata": {
      "needs_background": "light"
     },
     "output_type": "display_data"
    }
   ],
   "source": [
    "# droite de Henry pour une représentation graphique de la distribution de résidus\n",
    "\n",
    "def residus_henry(model, nom, couleur, ax):\n",
    "    sm.qqplot(model.resid, ax=ax, line=\"45\", fit=True, color=couleur)\n",
    "    ax.set_title(\"Droite de Henry\", fontsize=20)\n",
    "    ax.set_xlabel(\"Quantiles théoriques\" ,fontsize=15), ax.set_ylabel(\"Quantiles observés\", fontsize=16)\n",
    "fig, ax = plt.subplots(1, 1, figsize=(6, 5)); \n",
    "residus_henry(anova_income_log, \"ANOVA\", \"brown\", ax)"
   ]
  },
  {
   "cell_type": "code",
   "execution_count": 6,
   "id": "1e789e18",
   "metadata": {},
   "outputs": [
    {
     "name": "stdout",
     "output_type": "stream",
     "text": [
      "TEST DE KOLMOGOROV-SMIRNOV:  statistic = 0.033990000000000076  pvalue = 0.0\n"
     ]
    }
   ],
   "source": [
    "def test_residus_KS(model):\n",
    "    MR=model.resid\n",
    "    KS=st.ks_2samp(MR,list(np.random.normal(MR.mean(), MR.std(), len(MR))))\n",
    "    print(\"TEST DE KOLMOGOROV-SMIRNOV:\", \" statistic =\", KS[0], \" pvalue =\", KS[1])\n",
    "test_residus_KS(anova_income_log) # ne suit pas une loi normale"
   ]
  },
  {
   "cell_type": "raw",
   "id": "6b578a5c",
   "metadata": {},
   "source": [
    "Le passage en logarithme a permis d'avoir un modèle plus fiable."
   ]
  }
 ],
 "metadata": {
  "kernelspec": {
   "display_name": "Python 3",
   "language": "python",
   "name": "python3"
  },
  "language_info": {
   "codemirror_mode": {
    "name": "ipython",
    "version": 3
   },
   "file_extension": ".py",
   "mimetype": "text/x-python",
   "name": "python",
   "nbconvert_exporter": "python",
   "pygments_lexer": "ipython3",
   "version": "3.8.8"
  }
 },
 "nbformat": 4,
 "nbformat_minor": 5
}
